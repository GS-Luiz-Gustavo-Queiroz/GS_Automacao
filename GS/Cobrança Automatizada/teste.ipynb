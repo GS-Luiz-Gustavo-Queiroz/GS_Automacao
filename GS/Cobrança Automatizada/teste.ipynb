{
 "cells": [
  {
   "cell_type": "code",
   "execution_count": 1,
   "id": "e241ac6a",
   "metadata": {},
   "outputs": [],
   "source": [
    "import pandas as pd"
   ]
  },
  {
   "cell_type": "code",
   "execution_count": 8,
   "id": "3660bff9",
   "metadata": {},
   "outputs": [
    {
     "data": {
      "text/html": [
       "<div>\n",
       "<style scoped>\n",
       "    .dataframe tbody tr th:only-of-type {\n",
       "        vertical-align: middle;\n",
       "    }\n",
       "\n",
       "    .dataframe tbody tr th {\n",
       "        vertical-align: top;\n",
       "    }\n",
       "\n",
       "    .dataframe thead th {\n",
       "        text-align: right;\n",
       "    }\n",
       "</style>\n",
       "<table border=\"1\" class=\"dataframe\">\n",
       "  <thead>\n",
       "    <tr style=\"text-align: right;\">\n",
       "      <th></th>\n",
       "      <th>cnpj</th>\n",
       "      <th>empresa</th>\n",
       "      <th>num_titulo</th>\n",
       "      <th>tipo</th>\n",
       "      <th>cnpj_cli</th>\n",
       "      <th>desc_cli</th>\n",
       "      <th>email_cli</th>\n",
       "      <th>dt_baixa</th>\n",
       "      <th>dt_emissao</th>\n",
       "      <th>dt_vencimento</th>\n",
       "    </tr>\n",
       "  </thead>\n",
       "  <tbody>\n",
       "    <tr>\n",
       "      <th>0</th>\n",
       "      <td>16707848000195</td>\n",
       "      <td>SINGULAR FACILITIES SERVICE S.A.</td>\n",
       "      <td>000024104</td>\n",
       "      <td>NF</td>\n",
       "      <td>30628540000185</td>\n",
       "      <td>PARQUE DOS IPES</td>\n",
       "      <td>pedrosilva.asl2015@gmail.com</td>\n",
       "      <td></td>\n",
       "      <td>20250623</td>\n",
       "      <td>20250628</td>\n",
       "    </tr>\n",
       "    <tr>\n",
       "      <th>1</th>\n",
       "      <td>16707848000195</td>\n",
       "      <td>SINGULAR FACILITIES SERVICE S.A.</td>\n",
       "      <td>000024187</td>\n",
       "      <td>NF</td>\n",
       "      <td>31913220000130</td>\n",
       "      <td>CONDOMINIO SOLARIUM</td>\n",
       "      <td>pedrosilva.asl2015@gmail.com</td>\n",
       "      <td></td>\n",
       "      <td>20250623</td>\n",
       "      <td>20250628</td>\n",
       "    </tr>\n",
       "  </tbody>\n",
       "</table>\n",
       "</div>"
      ],
      "text/plain": [
       "             cnpj                                    empresa num_titulo tipo  \\\n",
       "0  16707848000195  SINGULAR FACILITIES SERVICE S.A.           000024104  NF    \n",
       "1  16707848000195  SINGULAR FACILITIES SERVICE S.A.           000024187  NF    \n",
       "\n",
       "         cnpj_cli              desc_cli                     email_cli  \\\n",
       "0  30628540000185  PARQUE DOS IPES       pedrosilva.asl2015@gmail.com   \n",
       "1  31913220000130  CONDOMINIO SOLARIUM   pedrosilva.asl2015@gmail.com   \n",
       "\n",
       "   dt_baixa dt_emissao dt_vencimento  \n",
       "0             20250623      20250628  \n",
       "1             20250623      20250628  "
      ]
     },
     "execution_count": 8,
     "metadata": {},
     "output_type": "execute_result"
    }
   ],
   "source": [
    "import pandas as pd\n",
    "import smtplib\n",
    "from ler_credenciais import ler_credenciais_remet, ler_credenciais_db\n",
    "from get_data import get_data\n",
    "from enviar_email import enviar_email\n",
    "\n",
    "\n",
    "creds_db = ler_credenciais_db()\n",
    "df = get_data(creds_db['server'], creds_db['username'], creds_db['password'], creds_db['database'])\n",
    "\n",
    "creds_remet = ler_credenciais_remet()\n",
    "for _, i in df.iterrows():\n",
    "    i['email_cli'] = 'pedrosilva.asl2015@gmail.com'\n",
    "df"
   ]
  },
  {
   "cell_type": "code",
   "execution_count": 11,
   "id": "3111304f",
   "metadata": {},
   "outputs": [],
   "source": [
    "for _, i in df.iterrows():\n",
    "    enviar_email(creds_remet, i['email_cli'])"
   ]
  },
  {
   "cell_type": "code",
   "execution_count": 17,
   "id": "8297ac9e",
   "metadata": {},
   "outputs": [
    {
     "data": {
      "text/plain": [
       "datetime.datetime(2025, 6, 28, 0, 0)"
      ]
     },
     "execution_count": 17,
     "metadata": {},
     "output_type": "execute_result"
    }
   ],
   "source": [
    "from datetime import datetime\n",
    "\n",
    "datetime.strptime('20250628', \"%Y%m%d\")"
   ]
  },
  {
   "cell_type": "code",
   "execution_count": 4,
   "id": "86fb1abd",
   "metadata": {},
   "outputs": [
    {
     "data": {
      "text/plain": [
       "datetime.datetime(2025, 6, 28, 0, 0)"
      ]
     },
     "execution_count": 4,
     "metadata": {},
     "output_type": "execute_result"
    }
   ],
   "source": [
    "from data_venc import data_venc\n",
    "\n",
    "data_venc('20250628')"
   ]
  },
  {
   "cell_type": "code",
   "execution_count": 1,
   "id": "a7a501e2",
   "metadata": {},
   "outputs": [
    {
     "data": {
      "text/plain": [
       "'28/06/2025'"
      ]
     },
     "execution_count": 1,
     "metadata": {},
     "output_type": "execute_result"
    }
   ],
   "source": [
    "from data_venc import data_venc\n",
    "\n",
    "data_venc('20250628')"
   ]
  }
 ],
 "metadata": {
  "kernelspec": {
   "display_name": "Python 3",
   "language": "python",
   "name": "python3"
  },
  "language_info": {
   "codemirror_mode": {
    "name": "ipython",
    "version": 3
   },
   "file_extension": ".py",
   "mimetype": "text/x-python",
   "name": "python",
   "nbconvert_exporter": "python",
   "pygments_lexer": "ipython3",
   "version": "3.13.4"
  }
 },
 "nbformat": 4,
 "nbformat_minor": 5
}
