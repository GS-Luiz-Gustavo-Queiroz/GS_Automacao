{
 "cells": [
  {
   "cell_type": "code",
   "execution_count": 2,
   "id": "03d7ae47",
   "metadata": {},
   "outputs": [
    {
     "data": {
      "text/html": [
       "<div>\n",
       "<style scoped>\n",
       "    .dataframe tbody tr th:only-of-type {\n",
       "        vertical-align: middle;\n",
       "    }\n",
       "\n",
       "    .dataframe tbody tr th {\n",
       "        vertical-align: top;\n",
       "    }\n",
       "\n",
       "    .dataframe thead th {\n",
       "        text-align: right;\n",
       "    }\n",
       "</style>\n",
       "<table border=\"1\" class=\"dataframe\">\n",
       "  <thead>\n",
       "    <tr style=\"text-align: right;\">\n",
       "      <th></th>\n",
       "      <th>cnpj</th>\n",
       "      <th>empresa</th>\n",
       "      <th>num_titulo</th>\n",
       "      <th>tipo</th>\n",
       "      <th>cnpj_cli</th>\n",
       "      <th>desc_cli</th>\n",
       "      <th>email_cli</th>\n",
       "      <th>dt_baixa</th>\n",
       "      <th>dt_emissao</th>\n",
       "      <th>dt_vencimento</th>\n",
       "    </tr>\n",
       "  </thead>\n",
       "  <tbody>\n",
       "  </tbody>\n",
       "</table>\n",
       "</div>"
      ],
      "text/plain": [
       "Empty DataFrame\n",
       "Columns: [cnpj, empresa, num_titulo, tipo, cnpj_cli, desc_cli, email_cli, dt_baixa, dt_emissao, dt_vencimento]\n",
       "Index: []"
      ]
     },
     "execution_count": 2,
     "metadata": {},
     "output_type": "execute_result"
    }
   ],
   "source": [
    "from get_data import get_data_atraso_5_dias\n",
    "from ler_credenciais import ler_credenciais_db\n",
    "\n",
    "creds_db = ler_credenciais_db()\n",
    "df = get_data_atraso_5_dias(creds_db['server'], creds_db['username'], creds_db['password'], creds_db['database'])\n",
    "df"
   ]
  },
  {
   "cell_type": "code",
   "execution_count": 6,
   "id": "4735ecb7",
   "metadata": {},
   "outputs": [
    {
     "data": {
      "text/plain": [
       "'                                                            '"
      ]
     },
     "execution_count": 6,
     "metadata": {},
     "output_type": "execute_result"
    }
   ],
   "source": [
    "df.iloc[5]['email_cli'] "
   ]
  },
  {
   "cell_type": "code",
   "execution_count": 3,
   "id": "d666356e",
   "metadata": {},
   "outputs": [
    {
     "name": "stderr",
     "output_type": "stream",
     "text": [
      "0it [00:00, ?it/s]\n"
     ]
    }
   ],
   "source": [
    "import pandas as pd\n",
    "import smtplib\n",
    "from ler_credenciais import ler_credenciais_remet, ler_credenciais_db\n",
    "from get_data import get_data_atraso_5_dias\n",
    "from enviar_email import enviar_email_5_dias_atraso\n",
    "from data_venc import data_venc\n",
    "from tqdm import tqdm\n",
    "\n",
    "def cobranca_automatizada():\n",
    "    creds_db = ler_credenciais_db()\n",
    "    df = get_data_atraso_5_dias(creds_db['server'], creds_db['username'], creds_db['password'], creds_db['database'])\n",
    "\n",
    "    creds_remet = ler_credenciais_remet()\n",
    "\n",
    "    #BLOCO DE TESTES# APAGAR DEPOIS\n",
    "    for _, i in df.iterrows():\n",
    "        i['email_cli'] = 'ti.automacao03@gscsc.com.br'\n",
    "    #FIM DO BLOCO DE TESTES#\n",
    "\n",
    "    try:\n",
    "        #configurando servidor de e-mail\n",
    "        servidor_email = smtplib.SMTP('smtp.gmail.com', 587)\n",
    "        #iniciando servidor de e-mail\n",
    "        servidor_email.starttls()\n",
    "        #logando e-mail\n",
    "        servidor_email.login(creds_remet['usuario'], creds_remet['senha'])\n",
    "\n",
    "        for _, registro in tqdm(df.iterrows(), total=len(df)):\n",
    "\n",
    "            enviar_email_5_dias_atraso(servidor_email, creds_remet, registro['email_cli'], registro['num_titulo'], registro['dt_vencimento'])\n",
    "    \n",
    "    except Exception as e:\n",
    "        print(f\"Erro ao enviar e-mail: {e}\")\n",
    "    finally:\n",
    "        servidor_email.quit()\n",
    "\n",
    "cobranca_automatizada()"
   ]
  }
 ],
 "metadata": {
  "kernelspec": {
   "display_name": "Python 3",
   "language": "python",
   "name": "python3"
  },
  "language_info": {
   "codemirror_mode": {
    "name": "ipython",
    "version": 3
   },
   "file_extension": ".py",
   "mimetype": "text/x-python",
   "name": "python",
   "nbconvert_exporter": "python",
   "pygments_lexer": "ipython3",
   "version": "3.13.4"
  }
 },
 "nbformat": 4,
 "nbformat_minor": 5
}
