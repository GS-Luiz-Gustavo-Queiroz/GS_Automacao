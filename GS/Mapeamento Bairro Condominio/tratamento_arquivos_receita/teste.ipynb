{
 "cells": [
  {
   "cell_type": "code",
   "execution_count": 9,
   "id": "3bef27aa",
   "metadata": {},
   "outputs": [],
   "source": [
    "import os\n",
    "import pandas as pd"
   ]
  },
  {
   "cell_type": "code",
   "execution_count": null,
   "id": "4213bb3c",
   "metadata": {},
   "outputs": [
    {
     "data": {
      "text/plain": [
       "'c:\\\\Users\\\\User543\\\\Documents\\\\GitHub\\\\GS_Automacoes\\\\GS\\\\Mapeamento Bairro Condominio\\\\empresas'"
      ]
     },
     "execution_count": 8,
     "metadata": {},
     "output_type": "execute_result"
    }
   ],
   "source": [
    "pasta_atual = os.getcwd()\n",
    "pasta_empresas = os.path.join(pasta_atual, '..', 'empresas')\n",
    "pasta_empresas = os.path.abspath(pasta_empresas)\n"
   ]
  },
  {
   "cell_type": "code",
   "execution_count": 13,
   "id": "73a59343",
   "metadata": {},
   "outputs": [],
   "source": [
    "empresas1 = os.path.join(pasta_empresas, \"Empresas1.csv\")\n",
    "empresas1 = os.path.abspath(empresas1)\n",
    "nomes_colunas = [\"cnpj\", \"razao_social\", \"nat_jurid\", \"qual_resp\", \"capit_soc\", \"porte\", \"ente_fed\"]\n",
    "dataset_empresas1 = pd.read_csv(empresas1, dtype=str, sep=\";\", encoding=\"latin1\", names=nomes_colunas)"
   ]
  },
  {
   "cell_type": "code",
   "execution_count": 14,
   "id": "2046a01e",
   "metadata": {},
   "outputs": [
    {
     "data": {
      "text/plain": [
       "'c:\\\\Users\\\\User543\\\\Documents\\\\GitHub\\\\GS_Automacoes\\\\GS\\\\Mapeamento Bairro Condominio\\\\empresas\\\\Empresas1.csv'"
      ]
     },
     "execution_count": 14,
     "metadata": {},
     "output_type": "execute_result"
    }
   ],
   "source": [
    "empresas1"
   ]
  },
  {
   "cell_type": "code",
   "execution_count": 15,
   "id": "8eeaed51",
   "metadata": {},
   "outputs": [
    {
     "data": {
      "text/html": [
       "<div>\n",
       "<style scoped>\n",
       "    .dataframe tbody tr th:only-of-type {\n",
       "        vertical-align: middle;\n",
       "    }\n",
       "\n",
       "    .dataframe tbody tr th {\n",
       "        vertical-align: top;\n",
       "    }\n",
       "\n",
       "    .dataframe thead th {\n",
       "        text-align: right;\n",
       "    }\n",
       "</style>\n",
       "<table border=\"1\" class=\"dataframe\">\n",
       "  <thead>\n",
       "    <tr style=\"text-align: right;\">\n",
       "      <th></th>\n",
       "      <th>cnpj</th>\n",
       "      <th>razao_social</th>\n",
       "      <th>nat_jurid</th>\n",
       "      <th>qual_resp</th>\n",
       "      <th>capit_soc</th>\n",
       "      <th>porte</th>\n",
       "      <th>ente_fed</th>\n",
       "    </tr>\n",
       "  </thead>\n",
       "  <tbody>\n",
       "    <tr>\n",
       "      <th>0</th>\n",
       "      <td>00000000</td>\n",
       "      <td>BANCO DO BRASIL SA</td>\n",
       "      <td>2038</td>\n",
       "      <td>10</td>\n",
       "      <td>120000000000,00</td>\n",
       "      <td>05</td>\n",
       "      <td>NaN</td>\n",
       "    </tr>\n",
       "    <tr>\n",
       "      <th>1</th>\n",
       "      <td>00000001</td>\n",
       "      <td>ASSOCIACAO DE AMIGOS DE BAIRRO DO CONJ PAULISTANO</td>\n",
       "      <td>3999</td>\n",
       "      <td>16</td>\n",
       "      <td>0,00</td>\n",
       "      <td>05</td>\n",
       "      <td>NaN</td>\n",
       "    </tr>\n",
       "    <tr>\n",
       "      <th>2</th>\n",
       "      <td>00000002</td>\n",
       "      <td>WM&amp;R EMPREITEIRA DE CONSTRUCAO CIVIL LIMITADA</td>\n",
       "      <td>2240</td>\n",
       "      <td>49</td>\n",
       "      <td>0,00</td>\n",
       "      <td>05</td>\n",
       "      <td>NaN</td>\n",
       "    </tr>\n",
       "    <tr>\n",
       "      <th>3</th>\n",
       "      <td>00000003</td>\n",
       "      <td>CASA CARIDADE LUZETE ROBERTA DE MORAIS CONJ PA...</td>\n",
       "      <td>3999</td>\n",
       "      <td>16</td>\n",
       "      <td>0,00</td>\n",
       "      <td>05</td>\n",
       "      <td>NaN</td>\n",
       "    </tr>\n",
       "    <tr>\n",
       "      <th>4</th>\n",
       "      <td>00000004</td>\n",
       "      <td>ASSOCIACAO DO PEQUENO ADOLECENTE DO CONJ PAULI...</td>\n",
       "      <td>3999</td>\n",
       "      <td>16</td>\n",
       "      <td>0,00</td>\n",
       "      <td>05</td>\n",
       "      <td>NaN</td>\n",
       "    </tr>\n",
       "    <tr>\n",
       "      <th>...</th>\n",
       "      <td>...</td>\n",
       "      <td>...</td>\n",
       "      <td>...</td>\n",
       "      <td>...</td>\n",
       "      <td>...</td>\n",
       "      <td>...</td>\n",
       "      <td>...</td>\n",
       "    </tr>\n",
       "    <tr>\n",
       "      <th>4494855</th>\n",
       "      <td>04631955</td>\n",
       "      <td>EDNILSON BRASILEIRO - RESTAURANTE</td>\n",
       "      <td>2135</td>\n",
       "      <td>50</td>\n",
       "      <td>10000,00</td>\n",
       "      <td>01</td>\n",
       "      <td>NaN</td>\n",
       "    </tr>\n",
       "    <tr>\n",
       "      <th>4494856</th>\n",
       "      <td>04631956</td>\n",
       "      <td>STELF MATERIAIS DE CONSTRUCAO LTDA</td>\n",
       "      <td>2062</td>\n",
       "      <td>49</td>\n",
       "      <td>418536,00</td>\n",
       "      <td>03</td>\n",
       "      <td>NaN</td>\n",
       "    </tr>\n",
       "    <tr>\n",
       "      <th>4494857</th>\n",
       "      <td>04631957</td>\n",
       "      <td>ASSOCIACAO COMUNITARIA RURAL DOS MORADORES DO ...</td>\n",
       "      <td>3999</td>\n",
       "      <td>16</td>\n",
       "      <td>0,00</td>\n",
       "      <td>05</td>\n",
       "      <td>NaN</td>\n",
       "    </tr>\n",
       "    <tr>\n",
       "      <th>4494858</th>\n",
       "      <td>04631959</td>\n",
       "      <td>COSEPRE - CORRETORA DE SEGUROS DE VIDA, CAPITA...</td>\n",
       "      <td>2062</td>\n",
       "      <td>49</td>\n",
       "      <td>0,00</td>\n",
       "      <td>05</td>\n",
       "      <td>NaN</td>\n",
       "    </tr>\n",
       "    <tr>\n",
       "      <th>4494859</th>\n",
       "      <td>04631960</td>\n",
       "      <td>LUCIANA RAUBER</td>\n",
       "      <td>2135</td>\n",
       "      <td>50</td>\n",
       "      <td>0,00</td>\n",
       "      <td>05</td>\n",
       "      <td>NaN</td>\n",
       "    </tr>\n",
       "  </tbody>\n",
       "</table>\n",
       "<p>4494860 rows × 7 columns</p>\n",
       "</div>"
      ],
      "text/plain": [
       "             cnpj                                       razao_social  \\\n",
       "0        00000000                                 BANCO DO BRASIL SA   \n",
       "1        00000001  ASSOCIACAO DE AMIGOS DE BAIRRO DO CONJ PAULISTANO   \n",
       "2        00000002      WM&R EMPREITEIRA DE CONSTRUCAO CIVIL LIMITADA   \n",
       "3        00000003  CASA CARIDADE LUZETE ROBERTA DE MORAIS CONJ PA...   \n",
       "4        00000004  ASSOCIACAO DO PEQUENO ADOLECENTE DO CONJ PAULI...   \n",
       "...           ...                                                ...   \n",
       "4494855  04631955                  EDNILSON BRASILEIRO - RESTAURANTE   \n",
       "4494856  04631956                 STELF MATERIAIS DE CONSTRUCAO LTDA   \n",
       "4494857  04631957  ASSOCIACAO COMUNITARIA RURAL DOS MORADORES DO ...   \n",
       "4494858  04631959  COSEPRE - CORRETORA DE SEGUROS DE VIDA, CAPITA...   \n",
       "4494859  04631960                                     LUCIANA RAUBER   \n",
       "\n",
       "        nat_jurid qual_resp        capit_soc porte ente_fed  \n",
       "0            2038        10  120000000000,00    05      NaN  \n",
       "1            3999        16             0,00    05      NaN  \n",
       "2            2240        49             0,00    05      NaN  \n",
       "3            3999        16             0,00    05      NaN  \n",
       "4            3999        16             0,00    05      NaN  \n",
       "...           ...       ...              ...   ...      ...  \n",
       "4494855      2135        50         10000,00    01      NaN  \n",
       "4494856      2062        49        418536,00    03      NaN  \n",
       "4494857      3999        16             0,00    05      NaN  \n",
       "4494858      2062        49             0,00    05      NaN  \n",
       "4494859      2135        50             0,00    05      NaN  \n",
       "\n",
       "[4494860 rows x 7 columns]"
      ]
     },
     "execution_count": 15,
     "metadata": {},
     "output_type": "execute_result"
    }
   ],
   "source": [
    "dataset_empresas1"
   ]
  }
 ],
 "metadata": {
  "language_info": {
   "name": "python"
  }
 },
 "nbformat": 4,
 "nbformat_minor": 5
}
