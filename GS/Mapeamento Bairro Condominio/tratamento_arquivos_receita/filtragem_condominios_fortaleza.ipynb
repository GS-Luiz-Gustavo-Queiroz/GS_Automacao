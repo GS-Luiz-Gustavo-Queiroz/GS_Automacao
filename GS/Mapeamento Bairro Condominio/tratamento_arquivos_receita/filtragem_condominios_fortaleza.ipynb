{
 "cells": [
  {
   "cell_type": "markdown",
   "id": "ec6454d2",
   "metadata": {},
   "source": [
    "Para captar os condominios da cidade de fortaleza, a ideia consiste em:\n",
    " - Pegar os dados dos cnpj das empresas disponíveis no site da receita federal\n",
    " - A partir desses dados, filtrar pelo código da cidade de fortaleza e CNAE relativo a atitividade de condominio.\n",
    "\n",
    "<u>código da cidade de fortaleza: 1389</u><br/>\n",
    "<u>cnae da atividade de condominio: 8112500</u>"
   ]
  },
  {
   "cell_type": "code",
   "execution_count": 2,
   "id": "4e16150c",
   "metadata": {},
   "outputs": [],
   "source": [
    "import os\n",
    "import numpy as np\n",
    "import pandas as pd"
   ]
  },
  {
   "cell_type": "markdown",
   "id": "2dfadcfb",
   "metadata": {},
   "source": [
    "Tratamento dos datasets Estabelecimentos para obtenção dos condomínios de fortaleza por "
   ]
  },
  {
   "cell_type": "code",
   "execution_count": null,
   "id": "f2b9e5b5",
   "metadata": {},
   "outputs": [],
   "source": [
    "\n",
    "pasta_atual = os.path.dirname(os.path.abspath(\"filtragem_condominios_fortaleza.ipynb\"))\n",
    "pasta_arquivos = os.path.join(pasta_atual, '..', \"estabelecimentos\")\n",
    "pasta_arquivos = os.path.abspath(pasta_arquivos)\n",
    "os.makedirs(pasta_arquivos, exist_ok=True)"
   ]
  },
  {
   "cell_type": "code",
   "execution_count": 5,
   "id": "27bab742",
   "metadata": {},
   "outputs": [
    {
     "data": {
      "text/plain": [
       "['Estabelecimentos0.csv',\n",
       " 'Estabelecimentos1.csv',\n",
       " 'Estabelecimentos2.csv',\n",
       " 'Estabelecimentos3.csv',\n",
       " 'Estabelecimentos4.csv',\n",
       " 'Estabelecimentos5.csv',\n",
       " 'Estabelecimentos6.csv',\n",
       " 'Estabelecimentos7.csv',\n",
       " 'Estabelecimentos8.csv',\n",
       " 'Estabelecimentos9.csv']"
      ]
     },
     "execution_count": 5,
     "metadata": {},
     "output_type": "execute_result"
    }
   ],
   "source": [
    "arquivos_extraidos = os.listdir(pasta_arquivos)\n",
    "arquivos_extraidos"
   ]
  },
  {
   "cell_type": "code",
   "execution_count": 6,
   "id": "b7b659c0",
   "metadata": {},
   "outputs": [
    {
     "data": {
      "text/plain": [
       "'c:\\\\Users\\\\User543\\\\Documents\\\\GitHub\\\\GS_Automacoes\\\\GS\\\\Mapeamento Bairro Condominio\\\\estabelecimentos\\\\Estabelecimentos0.csv'"
      ]
     },
     "execution_count": 6,
     "metadata": {},
     "output_type": "execute_result"
    }
   ],
   "source": [
    "caminho_arquivo = os.path.join(pasta_arquivos, arquivos_extraidos[0])\n",
    "caminho_arquivo"
   ]
  },
  {
   "cell_type": "code",
   "execution_count": null,
   "id": "61015db0",
   "metadata": {},
   "outputs": [],
   "source": [
    "df = pd.read_csv(caminho_arquivo, dtype=str, sep=\";\", encoding='latin1')\n",
    "df"
   ]
  },
  {
   "cell_type": "code",
   "execution_count": null,
   "id": "8e810d2a",
   "metadata": {},
   "outputs": [],
   "source": [
    "def filtrar_cond_fortaleza_por_cnae(nome_do_arquivo): #obs.: o nome do aquivo tem que ser\n",
    "    nomes_colunas = [\"cnpj_base\", \"cnpj_ordem\", \"cnpj_dig_ver\", \"matriz_filial\", \"nome_fantasia\", \"sit_cadast\", \"data_sit_cadast\", \"motivo_sit_cadast\", \"nome_cidade_exterior\", \"pais\", \"data_inicio\", \"cnae_principal\", \"cnae_secundaria\", \"logradouro\", \"rua\", \"numero\", \"complemento\", \"bairro\", \"cep\", \"uf\", \"municipio\", \"ddd1\", \"telefone1\", \"ddd2\", \"telefone2\", \"ddd_fax\", \"fax\", \"email\", \"unamed1\", \"unamed2\"]\n",
    "\n",
    "    df_est = pd.read_csv(f\"{estabelecimentos{numero_arquivo}.csv}\", sep=';', dtype=str, encoding='latin1', names=nomes_colunas)\n",
    "\n",
    "    df_est = df_est.drop([\"unamed1\", \"unamed2\"], axis=1) #dropando colunas vazias dos arquivos da receita federal\n",
    "    \n",
    "    df_cnae = df_est[df_est[\"cnae_principal\"] == '8112500'] #filtrando o cnae de condominio\n",
    "\n",
    "    df_munic_cnae = df_cnae[df_cnae[\"municipio\"] == '1389'] #filtrando pelo codigo do municipio\n",
    "\n",
    "    df_munic_cnae.to_csv(f\"condominios{numero_arquivo}.csv\", index=False)\n",
    "\n",
    "    return df_munic_cnae"
   ]
  }
 ],
 "metadata": {
  "kernelspec": {
   "display_name": "Python 3",
   "language": "python",
   "name": "python3"
  },
  "language_info": {
   "codemirror_mode": {
    "name": "ipython",
    "version": 3
   },
   "file_extension": ".py",
   "mimetype": "text/x-python",
   "name": "python",
   "nbconvert_exporter": "python",
   "pygments_lexer": "ipython3",
   "version": "3.13.4"
  }
 },
 "nbformat": 4,
 "nbformat_minor": 5
}
