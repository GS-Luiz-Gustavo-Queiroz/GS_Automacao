{
 "cells": [
  {
   "cell_type": "markdown",
   "id": "ec6454d2",
   "metadata": {},
   "source": [
    "Para captar os condominios da cidade de fortaleza, a ideia consiste em:\n",
    " - Pegar os dados dos cnpj das empresas disponíveis no site da receita federal\n",
    " - A partir desses dados, filtrar pelo código da cidade de fortaleza e CNAE relativo a atitividade de condominio.\n",
    "\n",
    "<u>código da cidade de fortaleza: 1389</u><br/>\n",
    "<u>cnae da atividade de condominio: 8112500</u>"
   ]
  },
  {
   "cell_type": "code",
   "execution_count": 1,
   "id": "4e16150c",
   "metadata": {},
   "outputs": [],
   "source": [
    "import os\n",
    "import numpy as np\n",
    "import pandas as pd"
   ]
  },
  {
   "cell_type": "markdown",
   "id": "2dfadcfb",
   "metadata": {},
   "source": [
    "Tratamento dos datasets Estabelecimentos para obtenção dos condomínios de fortaleza (filtragem do dataset pelo codigo CNAE e códi)"
   ]
  },
  {
   "cell_type": "code",
   "execution_count": 26,
   "id": "9b9e0657",
   "metadata": {},
   "outputs": [],
   "source": [
    "def unificacao_cnpj(dataset): #funcao para chamar depois de filtrar os condominios de fortaleza\n",
    "    cnpj_completo = dataset[\"cnpj_base\"] +\"/\"+ dataset[\"cnpj_ordem\"] +\"-\"+ dataset[\"cnpj_dig_ver\"]\n",
    "    dataset.insert(0, 'cnpj', cnpj_completo)\n",
    "    dataset = dataset.drop([\"cnpj_ordem\", \"cnpj_dig_ver\"], axis=1)\n",
    "    # dataset.to_csv(\"condominios_total.csv\", index=False, encoding='latin1')\n",
    "    return dataset"
   ]
  },
  {
   "cell_type": "code",
   "execution_count": 27,
   "id": "5c245a84",
   "metadata": {},
   "outputs": [],
   "source": [
    "def tratamento_data_sit_cadast(dataset):\n",
    "    data_sit_cadast = dataset[\"data_sit_cadast\"]\n",
    "    data_sit_cadast_novo = data_sit_cadast.str[6:8] +\"/\"+ data_sit_cadast.str[4:6] +\"/\"+ data_sit_cadast.str[:4]\n",
    "    dataset[\"data_sit_cadast\"] = data_sit_cadast_novo\n",
    "\n",
    "    dataset.to_csv(\"condominios_total.csv\", index=False, encoding='latin1')\n",
    "\n",
    "    return dataset"
   ]
  },
  {
   "cell_type": "code",
   "execution_count": 28,
   "id": "d01dac7f",
   "metadata": {},
   "outputs": [],
   "source": [
    "def tratamento_data_inicio(dataset):\n",
    "    data_inicio = dataset[\"data_inicio\"]\n",
    "    data_inicio_novo = data_inicio.str[6:8] +\"/\"+ data_inicio.str[4:6] +\"/\"+ data_inicio.str[:4]\n",
    "    dataset[\"data_inicio\"] = data_inicio_novo\n",
    "\n",
    "    dataset.to_csv(\"condominios_total.csv\", index=False, encoding='latin1')\n",
    "\n",
    "    return dataset"
   ]
  },
  {
   "cell_type": "code",
   "execution_count": null,
   "id": "8e810d2a",
   "metadata": {},
   "outputs": [],
   "source": [
    "def filtrar_por_cnae_e_cidade(nome_do_arquivo): #obs.: o nome do aquivo tem que ser\n",
    "    nomes_colunas = [\"cnpj_base\", \"cnpj_ordem\", \"cnpj_dig_ver\", \"matriz_filial\", \"nome_fantasia\", \"sit_cadast\", \"data_sit_cadast\", \"motivo_sit_cadast\", \"nome_cidade_exterior\", \"pais\", \"data_inicio\", \"cnae_principal\", \"cnae_secundaria\", \"logradouro\", \"rua\", \"numero\", \"complemento\", \"bairro\", \"cep\", \"uf\", \"municipio\", \"ddd1\", \"telefone1\", \"ddd2\", \"telefone2\", \"ddd_fax\", \"fax\", \"email\", \"unamed1\", \"unamed2\"]\n",
    "\n",
    "    df_est = pd.read_csv(nome_do_arquivo, sep=';', dtype=str, encoding='latin1', names=nomes_colunas)\n",
    "\n",
    "    df_est = df_est.drop([\"unamed1\", \"unamed2\"], axis=1) #dropando colunas vazias dos arquivos da receita federal\n",
    "    \n",
    "    df_cnae = df_est[df_est[\"cnae_principal\"] == '8112500'] #filtrando o cnae de condominio\n",
    "\n",
    "    df_munic_cnae = df_cnae[df_cnae[\"municipio\"] == '1389'] #filtrando pelo codigo do municipio\n",
    "\n",
    "    # df_munic_cnae.to_csv(f\"condominios{numero_arquivo}.csv\", index=False) #se quiser exportar o arquivo, mas vamos manter em memória\n",
    "    df_munic_cnae = unificacao_cnpj(df_munic_cnae)\n",
    "    df_munic_cnae = tratamento_data_sit_cadast(df_munic_cnae)\n",
    "    df_munic_cnae = tratamento_data_inicio(df_munic_cnae)\n",
    "\n",
    "    return df_munic_cnae"
   ]
  },
  {
   "cell_type": "code",
   "execution_count": null,
   "id": "a370443a",
   "metadata": {},
   "outputs": [],
   "source": [
    "def filtrar_cond_fortaleza():\n",
    "\n",
    "    pasta_atual = os.getcwd()\n",
    "\n",
    "    pasta_arquivos = os.path.join(pasta_atual, '..', \"estabelecimentos\")\n",
    "    pasta_arquivos = os.path.abspath(pasta_arquivos)\n",
    "    os.makedirs(pasta_arquivos, exist_ok=True)\n",
    "\n",
    "    pasta_destino = os.path.join(pasta_atual, '..', \"condominios_fortaleza\")\n",
    "    pasta_destino = os.path.join(pasta_destino)\n",
    "    os.makedirs(pasta_destino, exist_ok=True)\n",
    "\n",
    "    #capturando nome dos arquivos de estabelecimentos\n",
    "    arquivos_extraidos = os.listdir(pasta_arquivos)\n",
    "\n",
    "    #loop para cada arquivo ser tratado e apos cada tratamento ser adicionado na lista para depois concatenar\n",
    "    arquivos_tratados_e_filtrados = []\n",
    "    for arquivo in arquivos_extraidos:\n",
    "        arquivo_atual = os.path.join(pasta_arquivos, arquivo)\n",
    "        arquivo_atual = os.path.abspath(arquivo_atual)\n",
    "\n",
    "        arquivos_tratados_e_filtrados.append( filtrar_por_cnae_e_cidade(arquivo_atual) )\n",
    "    \n",
    "    #concatenção dos arquivos de estabelecimentos tratados, ou seja, condominios de fortaleza\n",
    "    df_cond_final = pd.concat(arquivos_tratados_e_filtrados)\n",
    "\n",
    "    arquivo_destino = os.path.join(pasta_destino, \"condominios_fortaleza.csv\")\n",
    "    arquivo_destino = os.path.abspath(arquivo_destino)\n",
    "\n",
    "    df_cond_final.to_csv(arquivo_destino, index=False, encoding='latin1')"
   ]
  },
  {
   "cell_type": "markdown",
   "id": "654dc086",
   "metadata": {},
   "source": [
    "### Chamada da função principal de filtrar os condomínios de Fortaleza."
   ]
  },
  {
   "cell_type": "code",
   "execution_count": 31,
   "id": "87365ae6",
   "metadata": {},
   "outputs": [],
   "source": [
    "filtrar_cond_fortaleza()"
   ]
  }
 ],
 "metadata": {
  "kernelspec": {
   "display_name": "Python 3",
   "language": "python",
   "name": "python3"
  },
  "language_info": {
   "codemirror_mode": {
    "name": "ipython",
    "version": 3
   },
   "file_extension": ".py",
   "mimetype": "text/x-python",
   "name": "python",
   "nbconvert_exporter": "python",
   "pygments_lexer": "ipython3",
   "version": "3.13.4"
  }
 },
 "nbformat": 4,
 "nbformat_minor": 5
}
