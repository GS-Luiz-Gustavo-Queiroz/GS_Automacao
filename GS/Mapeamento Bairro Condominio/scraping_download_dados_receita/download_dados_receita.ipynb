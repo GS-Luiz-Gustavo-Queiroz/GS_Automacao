{
 "cells": [
  {
   "cell_type": "markdown",
   "id": "7b49e9d5",
   "metadata": {},
   "source": [
    "Códigos para obtenção de dados da receita </br>\n",
    "Após esses códigos, usaremos os códigos feitos anteriormente para tratar os dados e também iremos cruzar esses dados com o anterior para excluir cpnjs que já não existem com novos cnpjs."
   ]
  },
  {
   "cell_type": "markdown",
   "id": "5afc459b",
   "metadata": {},
   "source": [
    "link [https://arquivos.receitafederal.gov.br/dados/cnpj/dados_abertos_cnpj/2025-06/] </br>\n",
    "obs.: como iremos rodar mensalmente, essa data iremos passar como parametro </br>\n",
    "então o link será do tipo [https://arquivos.receitafederal.gov.br/dados/cnpj/dados_abertos_cnpj/{ano}-{mes}/]\n",
    "\n",
    "obs.: link para o mapeamento desse dataset [https://www.gov.br/receitafederal/dados/cnpj-metadados.pdf] </br>\n",
    "      link para obtenção dos dados [https://arquivos.receitafederal.gov.br/dados/cnpj/dados_abertos_cnpj/]"
   ]
  },
  {
   "cell_type": "code",
   "execution_count": 4,
   "id": "e9e3df15",
   "metadata": {},
   "outputs": [],
   "source": [
    "import os\n",
    "import requests\n",
    "import datetime\n",
    "import zipfile"
   ]
  },
  {
   "cell_type": "code",
   "execution_count": 31,
   "id": "5f58cc7f",
   "metadata": {},
   "outputs": [],
   "source": [
    "ano = datetime.datetime.now().year\n",
    "mes = datetime.datetime.now().month\n",
    "\n",
    "if mes < 10:\n",
    "    mes = \"0\"+str(mes)\n",
    "\n",
    "data = str(ano)+\"-\"+mes"
   ]
  },
  {
   "cell_type": "code",
   "execution_count": null,
   "id": "5ba4da0c",
   "metadata": {},
   "outputs": [],
   "source": [
    "url = f\"https://arquivos.receitafederal.gov.br/dados/cnpj/dados_abertos_cnpj/{data}/Empresas1.zip\""
   ]
  },
  {
   "cell_type": "code",
   "execution_count": 14,
   "id": "46d086eb",
   "metadata": {},
   "outputs": [],
   "source": [
    "pasta_atual = os.path.dirname(os.path.abspath(\"download_dados_receita.ipynb\"))\n",
    "pasta_irma = os.path.join(pasta_atual, '..', \"dados_baixados\")\n",
    "pasta_irma = os.path.abspath(pasta_irma)\n",
    "os.makedirs(pasta_irma, exist_ok=True)"
   ]
  },
  {
   "cell_type": "markdown",
   "id": "86982640",
   "metadata": {},
   "source": [
    "OBS.: Faremos o código para capturar os dados das Empresas, para incrementar com a razão social nosso dataset dos estabelecimento de condominios residenciais em Fortaleza."
   ]
  },
  {
   "cell_type": "code",
   "execution_count": 50,
   "id": "4c022404",
   "metadata": {},
   "outputs": [],
   "source": [
    "caminho_arquivo = os.path.join(pasta_irma, \"Empresas1.zip\") #pasta de dados baixados"
   ]
  },
  {
   "cell_type": "code",
   "execution_count": 53,
   "id": "c22351a4",
   "metadata": {},
   "outputs": [
    {
     "ename": "HTTPError",
     "evalue": "404 Client Error: Not Found for url: https://arquivos.receitafederal.gov.br/dados/cnpj/dados_abertos_cnpj/2025-06/Empresas10.zip",
     "output_type": "error",
     "traceback": [
      "\u001b[31m---------------------------------------------------------------------------\u001b[39m",
      "\u001b[31mHTTPError\u001b[39m                                 Traceback (most recent call last)",
      "\u001b[36mCell\u001b[39m\u001b[36m \u001b[39m\u001b[32mIn[53]\u001b[39m\u001b[32m, line 2\u001b[39m\n\u001b[32m      1\u001b[39m \u001b[38;5;28;01mwith\u001b[39;00m requests.get(url, stream=\u001b[38;5;28;01mTrue\u001b[39;00m) \u001b[38;5;28;01mas\u001b[39;00m resposta:\n\u001b[32m----> \u001b[39m\u001b[32m2\u001b[39m     \u001b[43mresposta\u001b[49m\u001b[43m.\u001b[49m\u001b[43mraise_for_status\u001b[49m\u001b[43m(\u001b[49m\u001b[43m)\u001b[49m\n\u001b[32m      3\u001b[39m     \u001b[38;5;28;01mwith\u001b[39;00m \u001b[38;5;28mopen\u001b[39m(caminho_arquivo, \u001b[33m\"\u001b[39m\u001b[33mwb\u001b[39m\u001b[33m\"\u001b[39m) \u001b[38;5;28;01mas\u001b[39;00m arquivo:\n\u001b[32m      4\u001b[39m         \u001b[38;5;28;01mfor\u001b[39;00m chunk \u001b[38;5;129;01min\u001b[39;00m resposta.iter_content(chunk_size=\u001b[32m8192\u001b[39m):\n",
      "\u001b[36mFile \u001b[39m\u001b[32mc:\\Users\\User543\\AppData\\Local\\Programs\\Python\\Python313\\Lib\\site-packages\\requests\\models.py:1026\u001b[39m, in \u001b[36mResponse.raise_for_status\u001b[39m\u001b[34m(self)\u001b[39m\n\u001b[32m   1021\u001b[39m     http_error_msg = (\n\u001b[32m   1022\u001b[39m         \u001b[33mf\u001b[39m\u001b[33m\"\u001b[39m\u001b[38;5;132;01m{\u001b[39;00m\u001b[38;5;28mself\u001b[39m.status_code\u001b[38;5;132;01m}\u001b[39;00m\u001b[33m Server Error: \u001b[39m\u001b[38;5;132;01m{\u001b[39;00mreason\u001b[38;5;132;01m}\u001b[39;00m\u001b[33m for url: \u001b[39m\u001b[38;5;132;01m{\u001b[39;00m\u001b[38;5;28mself\u001b[39m.url\u001b[38;5;132;01m}\u001b[39;00m\u001b[33m\"\u001b[39m\n\u001b[32m   1023\u001b[39m     )\n\u001b[32m   1025\u001b[39m \u001b[38;5;28;01mif\u001b[39;00m http_error_msg:\n\u001b[32m-> \u001b[39m\u001b[32m1026\u001b[39m     \u001b[38;5;28;01mraise\u001b[39;00m HTTPError(http_error_msg, response=\u001b[38;5;28mself\u001b[39m)\n",
      "\u001b[31mHTTPError\u001b[39m: 404 Client Error: Not Found for url: https://arquivos.receitafederal.gov.br/dados/cnpj/dados_abertos_cnpj/2025-06/Empresas10.zip"
     ]
    }
   ],
   "source": [
    "with requests.get(url, stream=True) as resposta:\n",
    "    resposta.raise_for_status()\n",
    "    with open(caminho_arquivo, \"wb\") as arquivo:\n",
    "        for chunk in resposta.iter_content(chunk_size=8192):\n",
    "            arquivo.write(chunk)\n",
    "\n",
    "print(f\"Download concluído! Arquivo salvo em: {caminho_arquivo}\")"
   ]
  },
  {
   "cell_type": "code",
   "execution_count": 54,
   "id": "c4c43873",
   "metadata": {},
   "outputs": [
    {
     "data": {
      "text/plain": [
       "'c:\\\\Users\\\\User543\\\\Documents\\\\GitHub\\\\GS_Automacoes\\\\GS\\\\Mapeamento Bairro Condominio\\\\dados_baixados\\\\Empresas1.zip'"
      ]
     },
     "execution_count": 54,
     "metadata": {},
     "output_type": "execute_result"
    }
   ],
   "source": [
    "caminho_arquivo"
   ]
  },
  {
   "cell_type": "markdown",
   "id": "a13daa71",
   "metadata": {},
   "source": [
    "Descompactando o zip"
   ]
  },
  {
   "cell_type": "code",
   "execution_count": null,
   "id": "bc176667",
   "metadata": {},
   "outputs": [],
   "source": [
    "with zipfile.ZipFile(caminho_arquivo, 'r') as zip_ref:\n",
    "    zip_ref.extractall(pasta_irma)"
   ]
  },
  {
   "cell_type": "code",
   "execution_count": 67,
   "id": "13971c6e",
   "metadata": {},
   "outputs": [
    {
     "data": {
      "text/plain": [
       "'c:\\\\Users\\\\User543\\\\Documents\\\\GitHub\\\\GS_Automacoes\\\\GS\\\\Mapeamento Bairro Condominio\\\\dados_baixados\\\\Empresas1.zip'"
      ]
     },
     "execution_count": 67,
     "metadata": {},
     "output_type": "execute_result"
    }
   ],
   "source": [
    "caminho_arquivo"
   ]
  },
  {
   "cell_type": "markdown",
   "id": "29641ed0",
   "metadata": {},
   "source": [
    "Excluindo os zip"
   ]
  },
  {
   "cell_type": "code",
   "execution_count": 68,
   "id": "e3fe8248",
   "metadata": {},
   "outputs": [],
   "source": [
    "os.remove(caminho_arquivo)"
   ]
  },
  {
   "cell_type": "markdown",
   "id": "f807b0a0",
   "metadata": {},
   "source": [
    "**Função download, descompactação e renomeação dos arquivos das Empresas:**"
   ]
  },
  {
   "cell_type": "code",
   "execution_count": 43,
   "id": "03a0a79b",
   "metadata": {},
   "outputs": [],
   "source": [
    "def download_empresas(): #função para download dos arquivos Empresas, descompactação e renomeação\n",
    "\n",
    "    #criando uma pasta irmã para ser o destino dos arquivos baixados\n",
    "    pasta_atual = os.path.dirname(os.path.abspath(\"download_dados_receita.ipynb\"))\n",
    "    pasta_irma = os.path.join(pasta_atual, '..', \"empresas\")\n",
    "    pasta_irma = os.path.abspath(pasta_irma)\n",
    "    os.makedirs(pasta_irma, exist_ok=True)\n",
    "\n",
    "    #obtencao do mes e ano\n",
    "    ano = datetime.datetime.now().year\n",
    "    mes = datetime.datetime.now().month\n",
    "    if mes < 10:\n",
    "        mes = \"0\"+str(mes)\n",
    "    data = str(ano)+\"-\"+mes\n",
    "    \n",
    "    #condicao do while e iterador dos arquivos no site\n",
    "    #condicao e: se jogar um erro no try (o iterador passar da qtdd de arquivo) o except torna a condition False\n",
    "    condition = True\n",
    "    iter = 0\n",
    "\n",
    "    #captura, baixa todos os arquivos com nome do tipo \"Empresas_.zip\"\n",
    "    while(condition):\n",
    "        \n",
    "        try:\n",
    "            url = f\"https://arquivos.receitafederal.gov.br/dados/cnpj/dados_abertos_cnpj/{data}/Empresas{str(iter)}.zip\"\n",
    "\n",
    "            caminho_arquivo = os.path.join(pasta_irma, f\"Empresas{iter}.zip\") #pasta de dados baixados\n",
    "\n",
    "            #codigo para baixar arquivo da vez no loop while\n",
    "            with requests.get(url, stream=True) as resposta:\n",
    "                resposta.raise_for_status()\n",
    "                with open(caminho_arquivo, \"wb\") as arquivo:\n",
    "                    for chunk in resposta.iter_content(chunk_size=8192):\n",
    "                        arquivo.write(chunk)\n",
    "\n",
    "            #extracao do zip baixado no loop atual\n",
    "            with zipfile.ZipFile(caminho_arquivo, 'r') as zip_ref:\n",
    "                zip_ref.extractall(pasta_irma)\n",
    "\n",
    "            print(f\"Download concluído! Arquivo salvo em: {caminho_arquivo}\")\n",
    "        \n",
    "            #depois do arquivo extraido, remove o .zip\n",
    "            os.remove(caminho_arquivo)\n",
    "            \n",
    "            iter = iter + 1\n",
    "        except:\n",
    "            condition = False\n",
    "\n",
    "    \n",
    "    #agora irei renomear o nome dos arquivos\n",
    "    arquivos_extraidos = os.listdir(pasta_irma)\n",
    "    arquivos_extraidos\n",
    "\n",
    "    indice = 0\n",
    "    for arquivo in arquivos_extraidos:\n",
    "        nome_antigo = os.path.join(pasta_irma, arquivo)\n",
    "        nome_novo = os.path.join(pasta_irma, f\"Empresas{indice}.csv\")\n",
    "\n",
    "        os.rename(nome_antigo, nome_novo)\n",
    "        indice = indice + 1\n",
    "    "
   ]
  },
  {
   "cell_type": "code",
   "execution_count": 44,
   "id": "374725a6",
   "metadata": {},
   "outputs": [
    {
     "name": "stdout",
     "output_type": "stream",
     "text": [
      "Download concluído! Arquivo salvo em: c:\\Users\\User543\\Documents\\GitHub\\GS_Automacoes\\GS\\Mapeamento Bairro Condominio\\empresas\\Empresas0.zip\n",
      "Download concluído! Arquivo salvo em: c:\\Users\\User543\\Documents\\GitHub\\GS_Automacoes\\GS\\Mapeamento Bairro Condominio\\empresas\\Empresas1.zip\n",
      "Download concluído! Arquivo salvo em: c:\\Users\\User543\\Documents\\GitHub\\GS_Automacoes\\GS\\Mapeamento Bairro Condominio\\empresas\\Empresas2.zip\n",
      "Download concluído! Arquivo salvo em: c:\\Users\\User543\\Documents\\GitHub\\GS_Automacoes\\GS\\Mapeamento Bairro Condominio\\empresas\\Empresas3.zip\n",
      "Download concluído! Arquivo salvo em: c:\\Users\\User543\\Documents\\GitHub\\GS_Automacoes\\GS\\Mapeamento Bairro Condominio\\empresas\\Empresas4.zip\n",
      "Download concluído! Arquivo salvo em: c:\\Users\\User543\\Documents\\GitHub\\GS_Automacoes\\GS\\Mapeamento Bairro Condominio\\empresas\\Empresas5.zip\n",
      "Download concluído! Arquivo salvo em: c:\\Users\\User543\\Documents\\GitHub\\GS_Automacoes\\GS\\Mapeamento Bairro Condominio\\empresas\\Empresas6.zip\n",
      "Download concluído! Arquivo salvo em: c:\\Users\\User543\\Documents\\GitHub\\GS_Automacoes\\GS\\Mapeamento Bairro Condominio\\empresas\\Empresas7.zip\n",
      "Download concluído! Arquivo salvo em: c:\\Users\\User543\\Documents\\GitHub\\GS_Automacoes\\GS\\Mapeamento Bairro Condominio\\empresas\\Empresas8.zip\n",
      "Download concluído! Arquivo salvo em: c:\\Users\\User543\\Documents\\GitHub\\GS_Automacoes\\GS\\Mapeamento Bairro Condominio\\empresas\\Empresas9.zip\n"
     ]
    }
   ],
   "source": [
    "download_empresas()"
   ]
  },
  {
   "cell_type": "code",
   "execution_count": 45,
   "id": "03ed7b0e",
   "metadata": {},
   "outputs": [],
   "source": [
    "def download_estabelecimentos(): #função para download dos arquivos Estabelecimentos, descompactação e renomeação\n",
    "\n",
    "    #criando uma pasta irmã para ser o destino dos arquivos baixados\n",
    "    pasta_atual = os.path.dirname(os.path.abspath(\"download_dados_receita.ipynb\"))\n",
    "    pasta_irma = os.path.join(pasta_atual, '..', \"estabelecimentos\")\n",
    "    pasta_irma = os.path.abspath(pasta_irma)\n",
    "    os.makedirs(pasta_irma, exist_ok=True)\n",
    "\n",
    "    #obtencao do mes e ano\n",
    "    ano = datetime.datetime.now().year\n",
    "    mes = datetime.datetime.now().month\n",
    "    if mes < 10:\n",
    "        mes = \"0\"+str(mes)\n",
    "    data = str(ano)+\"-\"+mes\n",
    "    \n",
    "    #condicao do while e iterador dos arquivos no site\n",
    "    #condicao e: se jogar um erro no try (o iterador passar da qtdd de arquivo) o except torna a condition False\n",
    "    condition = True\n",
    "    iter = 0\n",
    "\n",
    "    while(condition):\n",
    "        \n",
    "        try:\n",
    "            url = f\"https://arquivos.receitafederal.gov.br/dados/cnpj/dados_abertos_cnpj/{data}/Estabelecimentos{str(iter)}.zip\"\n",
    "\n",
    "            caminho_arquivo = os.path.join(pasta_irma, f\"Estabelecimentos{iter}.zip\") #pasta de dados baixados\n",
    "\n",
    "            #codigo para baixar arquivo da vez no loop while\n",
    "            with requests.get(url, stream=True) as resposta:\n",
    "                resposta.raise_for_status()\n",
    "                with open(caminho_arquivo, \"wb\") as arquivo:\n",
    "                    for chunk in resposta.iter_content(chunk_size=8192):\n",
    "                        arquivo.write(chunk)\n",
    "            \n",
    "            #extracao do zip baixado no loop atual\n",
    "            with zipfile.ZipFile(caminho_arquivo, 'r') as zip_ref:\n",
    "                zip_ref.extractall(pasta_irma)\n",
    "\n",
    "            print(f\"Download concluído! Arquivo salvo em: {caminho_arquivo}\")\n",
    "\n",
    "            #depois do arquivo extraido, remove o .zip\n",
    "            os.remove(caminho_arquivo)\n",
    "        \n",
    "            iter = iter + 1\n",
    "        except:\n",
    "            condition = False\n",
    "\n",
    "    #agora irei renomear o nome dos arquivos\n",
    "    arquivos_extraidos = os.listdir(pasta_irma)\n",
    "    arquivos_extraidos\n",
    "\n",
    "    indice = 0\n",
    "    for arquivo in arquivos_extraidos:\n",
    "        nome_antigo = os.path.join(pasta_irma, arquivo)\n",
    "        nome_novo = os.path.join(pasta_irma, f\"Estabelecimentos{indice}.csv\")\n",
    "\n",
    "        os.rename(nome_antigo, nome_novo)\n",
    "        indice = indice + 1\n"
   ]
  },
  {
   "cell_type": "code",
   "execution_count": 46,
   "id": "625ffe04",
   "metadata": {},
   "outputs": [
    {
     "name": "stdout",
     "output_type": "stream",
     "text": [
      "Download concluído! Arquivo salvo em: c:\\Users\\User543\\Documents\\GitHub\\GS_Automacoes\\GS\\Mapeamento Bairro Condominio\\estabelecimentos\\Estabelecimentos0.zip\n",
      "Download concluído! Arquivo salvo em: c:\\Users\\User543\\Documents\\GitHub\\GS_Automacoes\\GS\\Mapeamento Bairro Condominio\\estabelecimentos\\Estabelecimentos1.zip\n",
      "Download concluído! Arquivo salvo em: c:\\Users\\User543\\Documents\\GitHub\\GS_Automacoes\\GS\\Mapeamento Bairro Condominio\\estabelecimentos\\Estabelecimentos2.zip\n",
      "Download concluído! Arquivo salvo em: c:\\Users\\User543\\Documents\\GitHub\\GS_Automacoes\\GS\\Mapeamento Bairro Condominio\\estabelecimentos\\Estabelecimentos3.zip\n",
      "Download concluído! Arquivo salvo em: c:\\Users\\User543\\Documents\\GitHub\\GS_Automacoes\\GS\\Mapeamento Bairro Condominio\\estabelecimentos\\Estabelecimentos4.zip\n",
      "Download concluído! Arquivo salvo em: c:\\Users\\User543\\Documents\\GitHub\\GS_Automacoes\\GS\\Mapeamento Bairro Condominio\\estabelecimentos\\Estabelecimentos5.zip\n",
      "Download concluído! Arquivo salvo em: c:\\Users\\User543\\Documents\\GitHub\\GS_Automacoes\\GS\\Mapeamento Bairro Condominio\\estabelecimentos\\Estabelecimentos6.zip\n",
      "Download concluído! Arquivo salvo em: c:\\Users\\User543\\Documents\\GitHub\\GS_Automacoes\\GS\\Mapeamento Bairro Condominio\\estabelecimentos\\Estabelecimentos7.zip\n",
      "Download concluído! Arquivo salvo em: c:\\Users\\User543\\Documents\\GitHub\\GS_Automacoes\\GS\\Mapeamento Bairro Condominio\\estabelecimentos\\Estabelecimentos8.zip\n",
      "Download concluído! Arquivo salvo em: c:\\Users\\User543\\Documents\\GitHub\\GS_Automacoes\\GS\\Mapeamento Bairro Condominio\\estabelecimentos\\Estabelecimentos9.zip\n"
     ]
    }
   ],
   "source": [
    "download_estabelecimentos()"
   ]
  }
 ],
 "metadata": {
  "kernelspec": {
   "display_name": "Python 3",
   "language": "python",
   "name": "python3"
  },
  "language_info": {
   "codemirror_mode": {
    "name": "ipython",
    "version": 3
   },
   "file_extension": ".py",
   "mimetype": "text/x-python",
   "name": "python",
   "nbconvert_exporter": "python",
   "pygments_lexer": "ipython3",
   "version": "3.13.4"
  }
 },
 "nbformat": 4,
 "nbformat_minor": 5
}
