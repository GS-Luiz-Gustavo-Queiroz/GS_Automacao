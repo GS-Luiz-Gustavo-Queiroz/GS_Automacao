{
 "cells": [
  {
   "cell_type": "markdown",
   "id": "7b49e9d5",
   "metadata": {},
   "source": [
    "Códigos para obtenção de dados da receita </br>\n",
    "Após esses códigos, usaremos os códigos feitos anteriormente para tratar os dados e também iremos cruzar esses dados com o anterior para excluir cpnjs que já não existem com novos cnpjs."
   ]
  },
  {
   "cell_type": "markdown",
   "id": "5afc459b",
   "metadata": {},
   "source": [
    "link [https://arquivos.receitafederal.gov.br/dados/cnpj/dados_abertos_cnpj/2025-06/] </br>\n",
    "obs.: como iremos rodar mensalmente, essa data iremos passar como parametro </br>\n",
    "então o link será do tipo [https://arquivos.receitafederal.gov.br/dados/cnpj/dados_abertos_cnpj/{ano}-{mes}/]\n",
    "\n",
    "obs.: link para o mapeamento desse dataset [https://www.gov.br/receitafederal/dados/cnpj-metadados.pdf] </br>\n",
    "      link para obtenção dos dados [https://arquivos.receitafederal.gov.br/dados/cnpj/dados_abertos_cnpj/]"
   ]
  },
  {
   "cell_type": "code",
   "execution_count": 4,
   "id": "e9e3df15",
   "metadata": {},
   "outputs": [],
   "source": [
    "import os\n",
    "import requests\n",
    "import datetime\n",
    "import zipfile"
   ]
  },
  {
   "cell_type": "markdown",
   "id": "86982640",
   "metadata": {},
   "source": [
    "OBS.: Faremos o código para capturar os dados das Empresas, para incrementar com a razão social nosso dataset dos estabelecimento de condominios residenciais em Fortaleza."
   ]
  },
  {
   "cell_type": "markdown",
   "id": "f807b0a0",
   "metadata": {},
   "source": [
    "**Função download, descompactação e renomeação dos arquivos das Empresas:**"
   ]
  },
  {
   "cell_type": "code",
   "execution_count": null,
   "id": "03a0a79b",
   "metadata": {},
   "outputs": [],
   "source": [
    "def download_empresas(): #função para download dos arquivos Empresas, descompactação e renomeação\n",
    "\n",
    "    #criando uma pasta irmã para ser o destino dos arquivos baixados\n",
    "    pasta_atual = os.getcwd()\n",
    "    pasta_irma = os.path.join(pasta_atual, '..', \"empresas\")\n",
    "    pasta_irma = os.path.abspath(pasta_irma)\n",
    "    os.makedirs(pasta_irma, exist_ok=True)\n",
    "\n",
    "    #obtencao do mes e ano\n",
    "    ano = datetime.datetime.now().year\n",
    "    mes = datetime.datetime.now().month\n",
    "    if mes < 10:\n",
    "        mes = \"0\"+str(mes)\n",
    "    data = str(ano)+\"-\"+mes\n",
    "    \n",
    "    #condicao do while e iterador dos arquivos no site\n",
    "    #condicao e: se jogar um erro no try (o iterador passar da qtdd de arquivo) o except torna a condition False\n",
    "    condition = True\n",
    "    iter = 0\n",
    "\n",
    "    #captura, baixa todos os arquivos com nome do tipo \"Empresas_.zip\"\n",
    "    while(condition):\n",
    "        \n",
    "        try:\n",
    "            url = f\"https://arquivos.receitafederal.gov.br/dados/cnpj/dados_abertos_cnpj/{data}/Empresas{str(iter)}.zip\"\n",
    "\n",
    "            caminho_arquivo = os.path.join(pasta_irma, f\"Empresas{iter}.zip\") #pasta de dados baixados\n",
    "\n",
    "            #codigo para baixar arquivo da vez no loop while\n",
    "            with requests.get(url, stream=True) as resposta:\n",
    "                resposta.raise_for_status()\n",
    "                with open(caminho_arquivo, \"wb\") as arquivo:\n",
    "                    for chunk in resposta.iter_content(chunk_size=8192):\n",
    "                        arquivo.write(chunk)\n",
    "\n",
    "            #extracao do zip baixado no loop atual\n",
    "            with zipfile.ZipFile(caminho_arquivo, 'r') as zip_ref:\n",
    "                zip_ref.extractall(pasta_irma)\n",
    "\n",
    "            print(f\"Download concluído! Arquivo salvo em: {caminho_arquivo}\")\n",
    "        \n",
    "            #depois do arquivo extraido, remove o .zip\n",
    "            os.remove(caminho_arquivo)\n",
    "            \n",
    "            iter = iter + 1\n",
    "        except:\n",
    "            condition = False\n",
    "\n",
    "    \n",
    "    #agora irei renomear o nome dos arquivos\n",
    "    arquivos_extraidos = os.listdir(pasta_irma)\n",
    "    arquivos_extraidos\n",
    "\n",
    "    indice = 0\n",
    "    for arquivo in arquivos_extraidos:\n",
    "        nome_antigo = os.path.join(pasta_irma, arquivo)\n",
    "        nome_novo = os.path.join(pasta_irma, f\"Empresas{indice}.csv\")\n",
    "\n",
    "        os.rename(nome_antigo, nome_novo)\n",
    "        indice = indice + 1\n",
    "    "
   ]
  },
  {
   "cell_type": "code",
   "execution_count": 44,
   "id": "374725a6",
   "metadata": {},
   "outputs": [
    {
     "name": "stdout",
     "output_type": "stream",
     "text": [
      "Download concluído! Arquivo salvo em: c:\\Users\\User543\\Documents\\GitHub\\GS_Automacoes\\GS\\Mapeamento Bairro Condominio\\empresas\\Empresas0.zip\n",
      "Download concluído! Arquivo salvo em: c:\\Users\\User543\\Documents\\GitHub\\GS_Automacoes\\GS\\Mapeamento Bairro Condominio\\empresas\\Empresas1.zip\n",
      "Download concluído! Arquivo salvo em: c:\\Users\\User543\\Documents\\GitHub\\GS_Automacoes\\GS\\Mapeamento Bairro Condominio\\empresas\\Empresas2.zip\n",
      "Download concluído! Arquivo salvo em: c:\\Users\\User543\\Documents\\GitHub\\GS_Automacoes\\GS\\Mapeamento Bairro Condominio\\empresas\\Empresas3.zip\n",
      "Download concluído! Arquivo salvo em: c:\\Users\\User543\\Documents\\GitHub\\GS_Automacoes\\GS\\Mapeamento Bairro Condominio\\empresas\\Empresas4.zip\n",
      "Download concluído! Arquivo salvo em: c:\\Users\\User543\\Documents\\GitHub\\GS_Automacoes\\GS\\Mapeamento Bairro Condominio\\empresas\\Empresas5.zip\n",
      "Download concluído! Arquivo salvo em: c:\\Users\\User543\\Documents\\GitHub\\GS_Automacoes\\GS\\Mapeamento Bairro Condominio\\empresas\\Empresas6.zip\n",
      "Download concluído! Arquivo salvo em: c:\\Users\\User543\\Documents\\GitHub\\GS_Automacoes\\GS\\Mapeamento Bairro Condominio\\empresas\\Empresas7.zip\n",
      "Download concluído! Arquivo salvo em: c:\\Users\\User543\\Documents\\GitHub\\GS_Automacoes\\GS\\Mapeamento Bairro Condominio\\empresas\\Empresas8.zip\n",
      "Download concluído! Arquivo salvo em: c:\\Users\\User543\\Documents\\GitHub\\GS_Automacoes\\GS\\Mapeamento Bairro Condominio\\empresas\\Empresas9.zip\n"
     ]
    }
   ],
   "source": [
    "download_empresas()"
   ]
  },
  {
   "cell_type": "code",
   "execution_count": null,
   "id": "03ed7b0e",
   "metadata": {},
   "outputs": [],
   "source": [
    "def download_estabelecimentos(): #função para download dos arquivos Estabelecimentos, descompactação e renomeação\n",
    "\n",
    "    #criando uma pasta irmã para ser o destino dos arquivos baixados\n",
    "    pasta_atual = os.getcwd()\n",
    "    pasta_irma = os.path.join(pasta_atual, '..', \"estabelecimentos\")\n",
    "    pasta_irma = os.path.abspath(pasta_irma)\n",
    "    os.makedirs(pasta_irma, exist_ok=True)\n",
    "\n",
    "    #obtencao do mes e ano\n",
    "    ano = datetime.datetime.now().year\n",
    "    mes = datetime.datetime.now().month\n",
    "    if mes < 10:\n",
    "        mes = \"0\"+str(mes)\n",
    "    data = str(ano)+\"-\"+mes\n",
    "    \n",
    "    #condicao do while e iterador dos arquivos no site\n",
    "    #condicao e: se jogar um erro no try (o iterador passar da qtdd de arquivo) o except torna a condition False\n",
    "    condition = True\n",
    "    iter = 0\n",
    "\n",
    "    while(condition):\n",
    "        \n",
    "        try:\n",
    "            url = f\"https://arquivos.receitafederal.gov.br/dados/cnpj/dados_abertos_cnpj/{data}/Estabelecimentos{str(iter)}.zip\"\n",
    "\n",
    "            caminho_arquivo = os.path.join(pasta_irma, f\"Estabelecimentos{iter}.zip\") #pasta de dados baixados\n",
    "\n",
    "            #codigo para baixar arquivo da vez no loop while\n",
    "            with requests.get(url, stream=True) as resposta:\n",
    "                resposta.raise_for_status()\n",
    "                with open(caminho_arquivo, \"wb\") as arquivo:\n",
    "                    for chunk in resposta.iter_content(chunk_size=8192):\n",
    "                        arquivo.write(chunk)\n",
    "            \n",
    "            #extracao do zip baixado no loop atual\n",
    "            with zipfile.ZipFile(caminho_arquivo, 'r') as zip_ref:\n",
    "                zip_ref.extractall(pasta_irma)\n",
    "\n",
    "            print(f\"Download concluído! Arquivo salvo em: {caminho_arquivo}\")\n",
    "\n",
    "            #depois do arquivo extraido, remove o .zip\n",
    "            os.remove(caminho_arquivo)\n",
    "        \n",
    "            iter = iter + 1\n",
    "        except:\n",
    "            condition = False\n",
    "\n",
    "    #agora irei renomear o nome dos arquivos\n",
    "    arquivos_extraidos = os.listdir(pasta_irma)\n",
    "    arquivos_extraidos\n",
    "\n",
    "    indice = 0\n",
    "    for arquivo in arquivos_extraidos:\n",
    "        nome_antigo = os.path.join(pasta_irma, arquivo)\n",
    "        nome_novo = os.path.join(pasta_irma, f\"Estabelecimentos{indice}.csv\")\n",
    "\n",
    "        os.rename(nome_antigo, nome_novo)\n",
    "        indice = indice + 1\n"
   ]
  },
  {
   "cell_type": "code",
   "execution_count": 46,
   "id": "625ffe04",
   "metadata": {},
   "outputs": [
    {
     "name": "stdout",
     "output_type": "stream",
     "text": [
      "Download concluído! Arquivo salvo em: c:\\Users\\User543\\Documents\\GitHub\\GS_Automacoes\\GS\\Mapeamento Bairro Condominio\\estabelecimentos\\Estabelecimentos0.zip\n",
      "Download concluído! Arquivo salvo em: c:\\Users\\User543\\Documents\\GitHub\\GS_Automacoes\\GS\\Mapeamento Bairro Condominio\\estabelecimentos\\Estabelecimentos1.zip\n",
      "Download concluído! Arquivo salvo em: c:\\Users\\User543\\Documents\\GitHub\\GS_Automacoes\\GS\\Mapeamento Bairro Condominio\\estabelecimentos\\Estabelecimentos2.zip\n",
      "Download concluído! Arquivo salvo em: c:\\Users\\User543\\Documents\\GitHub\\GS_Automacoes\\GS\\Mapeamento Bairro Condominio\\estabelecimentos\\Estabelecimentos3.zip\n",
      "Download concluído! Arquivo salvo em: c:\\Users\\User543\\Documents\\GitHub\\GS_Automacoes\\GS\\Mapeamento Bairro Condominio\\estabelecimentos\\Estabelecimentos4.zip\n",
      "Download concluído! Arquivo salvo em: c:\\Users\\User543\\Documents\\GitHub\\GS_Automacoes\\GS\\Mapeamento Bairro Condominio\\estabelecimentos\\Estabelecimentos5.zip\n",
      "Download concluído! Arquivo salvo em: c:\\Users\\User543\\Documents\\GitHub\\GS_Automacoes\\GS\\Mapeamento Bairro Condominio\\estabelecimentos\\Estabelecimentos6.zip\n",
      "Download concluído! Arquivo salvo em: c:\\Users\\User543\\Documents\\GitHub\\GS_Automacoes\\GS\\Mapeamento Bairro Condominio\\estabelecimentos\\Estabelecimentos7.zip\n",
      "Download concluído! Arquivo salvo em: c:\\Users\\User543\\Documents\\GitHub\\GS_Automacoes\\GS\\Mapeamento Bairro Condominio\\estabelecimentos\\Estabelecimentos8.zip\n",
      "Download concluído! Arquivo salvo em: c:\\Users\\User543\\Documents\\GitHub\\GS_Automacoes\\GS\\Mapeamento Bairro Condominio\\estabelecimentos\\Estabelecimentos9.zip\n"
     ]
    }
   ],
   "source": [
    "download_estabelecimentos()"
   ]
  }
 ],
 "metadata": {
  "kernelspec": {
   "display_name": "Python 3",
   "language": "python",
   "name": "python3"
  },
  "language_info": {
   "codemirror_mode": {
    "name": "ipython",
    "version": 3
   },
   "file_extension": ".py",
   "mimetype": "text/x-python",
   "name": "python",
   "nbconvert_exporter": "python",
   "pygments_lexer": "ipython3",
   "version": "3.13.4"
  }
 },
 "nbformat": 4,
 "nbformat_minor": 5
}
