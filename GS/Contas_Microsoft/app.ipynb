{
 "cells": [
  {
   "cell_type": "code",
   "execution_count": 28,
   "id": "b3a521ef",
   "metadata": {},
   "outputs": [],
   "source": [
    "import pandas as pd\n",
    "import re\n",
    "import random\n",
    "import time\n",
    "import os"
   ]
  },
  {
   "cell_type": "code",
   "execution_count": 49,
   "id": "c6d3f0e4",
   "metadata": {},
   "outputs": [],
   "source": [
    "CAMINHO_PLANILHA = 'C:\\\\Users\\\\User543\\\\Documents\\\\CONTROLE_DE_ENVIOS_DET_(18.06).xlsx'\n",
    "DOMINIO_EMAIL = 'outlook.com'\n",
    "\n"
   ]
  },
  {
   "cell_type": "code",
   "execution_count": 4,
   "id": "10a63e77",
   "metadata": {},
   "outputs": [],
   "source": [
    "def gerar_email(primeiro_nome, segundo_nome):\n",
    "    numero_aleatorio = random.randint(100, 999)  \n",
    "    nome1 = re.sub(r'[^a-z0-9]', '', primeiro_nome.lower())\n",
    "    nome2 = re.sub(r'[^a-z0-9]', '', segundo_nome.lower()) if segundo_nome else ''\n",
    "    return f\"{nome1}.{nome2}{numero_aleatorio}@{DOMINIO_EMAIL}\""
   ]
  },
  {
   "cell_type": "code",
   "execution_count": 3,
   "id": "daf86842",
   "metadata": {},
   "outputs": [],
   "source": [
    "def gerar_senha(primeiro_nome):\n",
    "    numero_aleatorio = random.randint(100, 999)  \n",
    "    return f\"309263@{primeiro_nome}{numero_aleatorio}\""
   ]
  },
  {
   "cell_type": "code",
   "execution_count": 53,
   "id": "36e48a2c",
   "metadata": {},
   "outputs": [],
   "source": [
    "def atualizar_planilha_com_emails(caminho_arquivo):\n",
    "    try:\n",
    "        df = pd.read_excel(caminho_arquivo)\n",
    "\n",
    "        for col in ['RAZÃO SOCIAL', 'E-MAIL', 'SENHA']:\n",
    "            if col not in df.columns:\n",
    "                df[col] = ''\n",
    "\n",
    "        #ATRIBUICAO DE E-MAIL E SENHA CASO REGISTRO NAO TENHA E-MAIL\n",
    "        for i, row in df[df['E-MAIL'].isna()].iterrows():\n",
    "            empresa = str(row['RAZÃO SOCIAL']).strip()\n",
    "            partes = empresa.split()\n",
    "\n",
    "            if not partes:\n",
    "                continue  \n",
    "\n",
    "            primeiro_nome = partes[0]\n",
    "            segundo_nome = partes[1] if len(partes) > 1 else 'RAZÃO SOCIAL'\n",
    "\n",
    "            email = gerar_email(primeiro_nome, segundo_nome)\n",
    "            df.at[i, 'E-MAIL'] = email\n",
    "            df.at[i, 'SENHA'] = gerar_senha(primeiro_nome)\n",
    "\n",
    "        #ATRIBUICAO DE SENHA CASO REGISTRO TENHA E-MAIL MAS NÃO TENHA SENHA\n",
    "        for i, row in df[df['SENHA'].isna()].iterrows():\n",
    "            empresa = str(row['RAZÃO SOCIAL']).strip()\n",
    "            partes = empresa.split()\n",
    "\n",
    "            if not partes:\n",
    "                continue  \n",
    "\n",
    "            primeiro_nome = partes[0]\n",
    "            df.at[i, 'SENHA'] = gerar_senha(primeiro_nome)\n",
    "\n",
    "        # INICIO TESTE\n",
    "        novo_caminho = CAMINHO_PLANILHA[:-5] + \"_novo.xlsx\"\n",
    "        novo_caminho\n",
    "        df.to_excel(novo_caminho, index=False)\n",
    "        # FIM TESTE\n",
    "        # df.to_excel(novo_caminho, index=False)\n",
    "        print(\"Planilha atualizada com emails e senhas.\")\n",
    "        time.sleep(3)\n",
    "\n",
    "    except Exception as e:\n",
    "        print(f\"[ERRO] Ocorreu um problema: {e}\")"
   ]
  },
  {
   "cell_type": "code",
   "execution_count": 54,
   "id": "708154d1",
   "metadata": {},
   "outputs": [
    {
     "name": "stdout",
     "output_type": "stream",
     "text": [
      "Planilha atualizada com emails e senhas.\n"
     ]
    }
   ],
   "source": [
    "atualizar_planilha_com_emails(CAMINHO_PLANILHA)"
   ]
  },
  {
   "cell_type": "markdown",
   "id": "bd17fe57",
   "metadata": {},
   "source": [
    "#### Área de Testes"
   ]
  },
  {
   "cell_type": "code",
   "execution_count": 50,
   "id": "960a44d5",
   "metadata": {},
   "outputs": [],
   "source": [
    "df = pd.read_excel(CAMINHO_PLANILHA)"
   ]
  },
  {
   "cell_type": "code",
   "execution_count": 52,
   "id": "0b041fde",
   "metadata": {},
   "outputs": [
    {
     "data": {
      "text/html": [
       "<div>\n",
       "<style scoped>\n",
       "    .dataframe tbody tr th:only-of-type {\n",
       "        vertical-align: middle;\n",
       "    }\n",
       "\n",
       "    .dataframe tbody tr th {\n",
       "        vertical-align: top;\n",
       "    }\n",
       "\n",
       "    .dataframe thead th {\n",
       "        text-align: right;\n",
       "    }\n",
       "</style>\n",
       "<table border=\"1\" class=\"dataframe\">\n",
       "  <thead>\n",
       "    <tr style=\"text-align: right;\">\n",
       "      <th></th>\n",
       "      <th>QUANTI</th>\n",
       "      <th>GRUPO</th>\n",
       "      <th>RAZÃO SOCIAL</th>\n",
       "      <th>CNPJ</th>\n",
       "      <th>E-MAIL</th>\n",
       "      <th>SENHA</th>\n",
       "      <th>DET</th>\n",
       "      <th>TIPO</th>\n",
       "      <th>ESTADO</th>\n",
       "    </tr>\n",
       "  </thead>\n",
       "  <tbody>\n",
       "    <tr>\n",
       "      <th>239</th>\n",
       "      <td>NaN</td>\n",
       "      <td>NaN</td>\n",
       "      <td>CERUS SOMA SERVICOS FINANCEIRO LTDA</td>\n",
       "      <td>55.802.712/0001-16</td>\n",
       "      <td>NaN</td>\n",
       "      <td>NaN</td>\n",
       "      <td>NaN</td>\n",
       "      <td>NaN</td>\n",
       "      <td>NaN</td>\n",
       "    </tr>\n",
       "    <tr>\n",
       "      <th>240</th>\n",
       "      <td>NaN</td>\n",
       "      <td>NaN</td>\n",
       "      <td>FIDC CERUS FUNDO DE INVESTIMENTO EM DIREITOS C...</td>\n",
       "      <td>47.117.653/0001-19</td>\n",
       "      <td>NaN</td>\n",
       "      <td>NaN</td>\n",
       "      <td>NaN</td>\n",
       "      <td>NaN</td>\n",
       "      <td>NaN</td>\n",
       "    </tr>\n",
       "    <tr>\n",
       "      <th>241</th>\n",
       "      <td>NaN</td>\n",
       "      <td>NaN</td>\n",
       "      <td>METRUS SERVIÇOS ADMINISTRATIVOS LTDA</td>\n",
       "      <td>11.620.682.0001-51</td>\n",
       "      <td>NaN</td>\n",
       "      <td>NaN</td>\n",
       "      <td>NaN</td>\n",
       "      <td>NaN</td>\n",
       "      <td>NaN</td>\n",
       "    </tr>\n",
       "    <tr>\n",
       "      <th>242</th>\n",
       "      <td>NaN</td>\n",
       "      <td>NaN</td>\n",
       "      <td>NOVA METRUS ADMINISTRAÇÃO E APOIO A EDIFÍCIOS ...</td>\n",
       "      <td>35.206.890.0001-77</td>\n",
       "      <td>NaN</td>\n",
       "      <td>NaN</td>\n",
       "      <td>NaN</td>\n",
       "      <td>NaN</td>\n",
       "      <td>NaN</td>\n",
       "    </tr>\n",
       "    <tr>\n",
       "      <th>243</th>\n",
       "      <td>NaN</td>\n",
       "      <td>NaN</td>\n",
       "      <td>CERUS SECURITIZADORA DE CREDITOS S.A.</td>\n",
       "      <td>40.652.892/0003-91</td>\n",
       "      <td>NaN</td>\n",
       "      <td>NaN</td>\n",
       "      <td>NaN</td>\n",
       "      <td>NaN</td>\n",
       "      <td>NaN</td>\n",
       "    </tr>\n",
       "    <tr>\n",
       "      <th>244</th>\n",
       "      <td>NaN</td>\n",
       "      <td>NaN</td>\n",
       "      <td>SINGULAR FACILITIES SERVICE S.A.</td>\n",
       "      <td>16.707.848/0010-86</td>\n",
       "      <td>NaN</td>\n",
       "      <td>NaN</td>\n",
       "      <td>NaN</td>\n",
       "      <td>NaN</td>\n",
       "      <td>NaN</td>\n",
       "    </tr>\n",
       "    <tr>\n",
       "      <th>245</th>\n",
       "      <td>NaN</td>\n",
       "      <td>NaN</td>\n",
       "      <td>CONDOEXPERT LTDA</td>\n",
       "      <td>47.500.410/0001-65</td>\n",
       "      <td>NaN</td>\n",
       "      <td>NaN</td>\n",
       "      <td>NaN</td>\n",
       "      <td>NaN</td>\n",
       "      <td>NaN</td>\n",
       "    </tr>\n",
       "  </tbody>\n",
       "</table>\n",
       "</div>"
      ],
      "text/plain": [
       "     QUANTI GRUPO                                       RAZÃO SOCIAL  \\\n",
       "239     NaN   NaN                CERUS SOMA SERVICOS FINANCEIRO LTDA   \n",
       "240     NaN   NaN  FIDC CERUS FUNDO DE INVESTIMENTO EM DIREITOS C...   \n",
       "241     NaN   NaN              METRUS SERVIÇOS ADMINISTRATIVOS LTDA    \n",
       "242     NaN   NaN  NOVA METRUS ADMINISTRAÇÃO E APOIO A EDIFÍCIOS ...   \n",
       "243     NaN   NaN              CERUS SECURITIZADORA DE CREDITOS S.A.   \n",
       "244     NaN   NaN                   SINGULAR FACILITIES SERVICE S.A.   \n",
       "245     NaN   NaN                                   CONDOEXPERT LTDA   \n",
       "\n",
       "                   CNPJ E-MAIL SENHA  DET TIPO ESTADO  \n",
       "239  55.802.712/0001-16    NaN   NaN  NaN  NaN    NaN  \n",
       "240  47.117.653/0001-19    NaN   NaN  NaN  NaN    NaN  \n",
       "241  11.620.682.0001-51    NaN   NaN  NaN  NaN    NaN  \n",
       "242  35.206.890.0001-77    NaN   NaN  NaN  NaN    NaN  \n",
       "243  40.652.892/0003-91    NaN   NaN  NaN  NaN    NaN  \n",
       "244  16.707.848/0010-86    NaN   NaN  NaN  NaN    NaN  \n",
       "245  47.500.410/0001-65    NaN   NaN  NaN  NaN    NaN  "
      ]
     },
     "execution_count": 52,
     "metadata": {},
     "output_type": "execute_result"
    }
   ],
   "source": [
    "dfn = df[df['E-MAIL'].isna()]\n",
    "dfn"
   ]
  },
  {
   "cell_type": "code",
   "execution_count": null,
   "id": "de164842",
   "metadata": {},
   "outputs": [
    {
     "data": {
      "text/html": [
       "<div>\n",
       "<style scoped>\n",
       "    .dataframe tbody tr th:only-of-type {\n",
       "        vertical-align: middle;\n",
       "    }\n",
       "\n",
       "    .dataframe tbody tr th {\n",
       "        vertical-align: top;\n",
       "    }\n",
       "\n",
       "    .dataframe thead th {\n",
       "        text-align: right;\n",
       "    }\n",
       "</style>\n",
       "<table border=\"1\" class=\"dataframe\">\n",
       "  <thead>\n",
       "    <tr style=\"text-align: right;\">\n",
       "      <th></th>\n",
       "      <th>QUANTI</th>\n",
       "      <th>GRUPO</th>\n",
       "      <th>RAZÃO SOCIAL</th>\n",
       "      <th>CNPJ</th>\n",
       "      <th>E-MAIL</th>\n",
       "      <th>SENHA</th>\n",
       "      <th>DET</th>\n",
       "      <th>TIPO</th>\n",
       "      <th>ESTADO</th>\n",
       "    </tr>\n",
       "  </thead>\n",
       "  <tbody>\n",
       "  </tbody>\n",
       "</table>\n",
       "</div>"
      ],
      "text/plain": [
       "Empty DataFrame\n",
       "Columns: [QUANTI, GRUPO, RAZÃO SOCIAL, CNPJ, E-MAIL, SENHA, DET, TIPO, ESTADO]\n",
       "Index: []"
      ]
     },
     "execution_count": 46,
     "metadata": {},
     "output_type": "execute_result"
    }
   ],
   "source": [
    "dfn = df[df['E-MAIL'].isna()]"
   ]
  }
 ],
 "metadata": {
  "kernelspec": {
   "display_name": "Python 3",
   "language": "python",
   "name": "python3"
  },
  "language_info": {
   "codemirror_mode": {
    "name": "ipython",
    "version": 3
   },
   "file_extension": ".py",
   "mimetype": "text/x-python",
   "name": "python",
   "nbconvert_exporter": "python",
   "pygments_lexer": "ipython3",
   "version": "3.13.4"
  }
 },
 "nbformat": 4,
 "nbformat_minor": 5
}
