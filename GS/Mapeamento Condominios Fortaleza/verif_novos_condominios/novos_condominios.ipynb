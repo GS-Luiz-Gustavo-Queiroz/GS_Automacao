{
 "cells": [
  {
   "cell_type": "markdown",
   "id": "f194dc25",
   "metadata": {},
   "source": [
    "Para captar os novos condominios da cidade de fortaleza, a ideia consiste em:\n",
    " - Capturar os dados dos condomínios com o [programa gerar_dataset_cond_fortaleza](../pipeline_gerar_dataset/gerar_dataset_cond_fortaleza.py) disponibilizados no mês atual no site da receita.\n",
    " - A partir desses dados, realizar uma diferenciação entre o dataset antigo e o novo.\n",
    " - A partir dessa diferenciação gerar dois datasets: 1 apenas com os novos condomínios, e o outro geral, com os antigos mais os novos, no qual é o próprio dataset gerado."
   ]
  },
  {
   "cell_type": "code",
   "execution_count": 13,
   "id": "57c4b465",
   "metadata": {},
   "outputs": [],
   "source": [
    "import os\n",
    "import sys\n",
    "import pandas as pd\n",
    "import importlib"
   ]
  },
  {
   "cell_type": "code",
   "execution_count": 3,
   "id": "36b18fe2",
   "metadata": {},
   "outputs": [],
   "source": [
    "pasta_atual = os.getcwd()\n",
    "gerar_dataset = os.path.join(pasta_atual, '..', 'pipeline_gerar_dataset')\n",
    "gerar_dataset = os.path.abspath(gerar_dataset)\n",
    "sys.path.append(gerar_dataset)"
   ]
  },
  {
   "cell_type": "code",
   "execution_count": 7,
   "id": "3289be74",
   "metadata": {},
   "outputs": [],
   "source": [
    "from gerar_dataset_cond_fortaleza import gerar_dataset"
   ]
  },
  {
   "cell_type": "markdown",
   "id": "f171975c",
   "metadata": {},
   "source": [
    "#### Gerando o dataset do mês atual"
   ]
  },
  {
   "cell_type": "code",
   "execution_count": null,
   "id": "6838e6ff",
   "metadata": {},
   "outputs": [],
   "source": [
    "#captura o dataset dos condominios no mes atual e guarda o dataset\n",
    "#compara com o dataset antigo e gera um dataset a mais informando os condominios acrescentados\n",
    "def gerar_novo_dataset():\n",
    "    #capturando o dataset de condominios de fortaleza com o programa gerar_dataset()\n",
    "    dataset = gerar_dataset(\"condominios_fortaleza_com_razao_social_atualizado.csv\")\n",
    "\n",
    "    #capturando o diretorio dos datasets dos condominios novo e antigo\n",
    "    pasta_atual = os.getcwd()\n",
    "\n",
    "    pasta_arquivos = os.path.join(pasta_atual, '..', \"condominios_fortaleza\")\n",
    "    pasta_arquivos = os.path.abspath(pasta_arquivos)\n",
    "    os.makedirs(pasta_arquivos, exist_ok=True)\n",
    "\n",
    "    pasta_destino = os.path.join(pasta_atual, '..', \"condominios_fortaleza\")\n",
    "    pasta_destino = os.path.join(pasta_destino)\n",
    "    os.makedirs(pasta_destino, exist_ok=True)\n",
    "\n",
    "    condominios_fortaleza_antigo = os.path.join(pasta_arquivos, \"condominios_fortaleza_com_razao_social.csv\")\n",
    "    condominios_fortaleza_antigo = os.path.abspath(condominios_fortaleza_antigo)\n",
    "\n",
    "    condominios_fortaleza_novo = os.path.join(pasta_arquivos, \"condominios_fortaleza_com_razao_social_atualizado.csv\")\n",
    "    condominios_fortaleza_novo = os.path.abspath(condominios_fortaleza_novo)\n",
    "\n",
    "    #importando os datasets novo e antigo\n",
    "    condominios_novo = pd.read_csv(condominios_fortaleza_novo, dtype=str, encoding='latin1')\n",
    "    try:\n",
    "        condominios_antigo = pd.read_csv(condominios_fortaleza_antigo, dtype=str, encoding='latin1')\n",
    "\n",
    "        #comparando os datasets novo e antigo para capturar os condominios acrescentados\n",
    "        condominios_adicionados = condominios_novo[~condominios_novo['cnpj_base'].isin(condominios_antigo['cnpj_base'])]\n",
    "        condominios_adicionados\n",
    "\n",
    "        #exportando o dataset adicional apenas com os condominios que foram acrescentados em relação ao dataset antigo\n",
    "        arquivo_destino = os.path.join(pasta_destino, 'condominios_novos_do_mes.csv')\n",
    "        arquivo_destino = os.path.abspath(arquivo_destino)\n",
    "        condominios_adicionados.to_csv(arquivo_destino, index=False, encoding='latin1')\n",
    "\n",
    "        # os.remove(condominios_fortaleza_antigo)\n",
    "        os.rename(condominios_fortaleza_novo, condominios_fortaleza_antigo)\n",
    "    except:\n",
    "        pass\n",
    "\n",
    "    os.rename(condominios_fortaleza_novo, condominios_fortaleza_antigo)\n",
    "\n",
    "    return dataset, condominios_adicionados"
   ]
  },
  {
   "cell_type": "code",
   "execution_count": null,
   "id": "dbc9cab4",
   "metadata": {},
   "outputs": [
    {
     "name": "stdout",
     "output_type": "stream",
     "text": [
      "Executando download dos dados da Receita\n",
      "Parte 1/3\n",
      "Parte 1.1/3\n"
     ]
    },
    {
     "name": "stderr",
     "output_type": "stream",
     "text": []
    }
   ],
   "source": [
    "gerar_novo_dataset()"
   ]
  },
  {
   "cell_type": "markdown",
   "id": "b4ddb19e",
   "metadata": {},
   "source": [
    "#### Testes"
   ]
  }
 ],
 "metadata": {
  "kernelspec": {
   "display_name": "Python 3",
   "language": "python",
   "name": "python3"
  },
  "language_info": {
   "codemirror_mode": {
    "name": "ipython",
    "version": 3
   },
   "file_extension": ".py",
   "mimetype": "text/x-python",
   "name": "python",
   "nbconvert_exporter": "python",
   "pygments_lexer": "ipython3",
   "version": "3.13.4"
  }
 },
 "nbformat": 4,
 "nbformat_minor": 5
}
