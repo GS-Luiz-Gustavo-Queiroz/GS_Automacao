{
 "cells": [
  {
   "cell_type": "markdown",
   "id": "f194dc25",
   "metadata": {},
   "source": [
    "Para captar os novos condominios da cidade de fortaleza, a ideia consiste em:\n",
    " - Capturar os dados dos condomínios com o [programa gerar_dataset_cond_fortaleza](../pipeline_gerar_dataset/gerar_dataset_cond_fortaleza.py) disponibilizados no mês atual no site da receita.\n",
    " - A partir desses dados, realizar uma diferenciação entre o dataset antigo e o novo.\n",
    " - A partir dessa diferenciação gerar dois datasets: 1 apenas com os novos condomínios, e o outro geral, com os antigos mais os novos, no qual é o próprio dataset gerado."
   ]
  },
  {
   "cell_type": "code",
   "execution_count": 13,
   "id": "57c4b465",
   "metadata": {},
   "outputs": [],
   "source": [
    "import os\n",
    "import sys\n",
    "import pandas as pd\n",
    "import importlib"
   ]
  },
  {
   "cell_type": "code",
   "execution_count": 3,
   "id": "36b18fe2",
   "metadata": {},
   "outputs": [],
   "source": [
    "pasta_atual = os.getcwd()\n",
    "gerar_dataset = os.path.join(pasta_atual, '..', 'pipeline_gerar_dataset')\n",
    "gerar_dataset = os.path.abspath(gerar_dataset)\n",
    "sys.path.append(gerar_dataset)"
   ]
  },
  {
   "cell_type": "code",
   "execution_count": 7,
   "id": "3289be74",
   "metadata": {},
   "outputs": [],
   "source": [
    "from gerar_dataset_cond_fortaleza import gerar_dataset"
   ]
  },
  {
   "cell_type": "markdown",
   "id": "f171975c",
   "metadata": {},
   "source": [
    "#### Gerando o dataset do mês atual"
   ]
  },
  {
   "cell_type": "code",
   "execution_count": null,
   "id": "6838e6ff",
   "metadata": {},
   "outputs": [],
   "source": [
    "#captura o dataset dos condominios no mes atual e guarda o dataset\n",
    "#compara com o dataset antigo e gera um dataset a mais informando os condominios acrescentados\n",
    "def gerar_novo_dataset():\n",
    "    #capturando o dataset de condominios de fortaleza com o programa gerar_dataset()\n",
    "    dataset = gerar_dataset(\"condominios_fortaleza_com_razao_social_atualizado.csv\")\n",
    "\n",
    "    #capturando o diretorio dos datasets dos condominios novo e antigo\n",
    "    pasta_atual = os.getcwd()\n",
    "\n",
    "    pasta_arquivos = os.path.join(pasta_atual, '..', \"condominios_fortaleza\")\n",
    "    pasta_arquivos = os.path.abspath(pasta_arquivos)\n",
    "    os.makedirs(pasta_arquivos, exist_ok=True)\n",
    "\n",
    "    pasta_destino = os.path.join(pasta_atual, '..', \"condominios_fortaleza\")\n",
    "    pasta_destino = os.path.join(pasta_destino)\n",
    "    os.makedirs(pasta_destino, exist_ok=True)\n",
    "\n",
    "    condominios_fortaleza_antigo = os.path.join(pasta_arquivos, \"condominios_fortaleza_com_razao_social.csv\")\n",
    "    condominios_fortaleza_antigo = os.path.abspath(condominios_fortaleza_antigo)\n",
    "\n",
    "    condominios_fortaleza_novo = os.path.join(pasta_arquivos, \"condominios_fortaleza_com_razao_social_atualizado.csv\")\n",
    "    condominios_fortaleza_novo = os.path.abspath(condominios_fortaleza_novo)\n",
    "\n",
    "    #importando os datasets novo e antigo\n",
    "    condominios_novo = pd.read_csv(condominios_fortaleza_novo, dtype=str, encoding='latin1')\n",
    "    try:\n",
    "        condominios_antigo = pd.read_csv(condominios_fortaleza_antigo, dtype=str, encoding='latin1')\n",
    "\n",
    "        #comparando os datasets novo e antigo para capturar os condominios acrescentados\n",
    "        condominios_adicionados = condominios_novo[~condominios_novo['cnpj_base'].isin(condominios_antigo['cnpj_base'])]\n",
    "        condominios_adicionados\n",
    "\n",
    "        #exportando o dataset adicional apenas com os condominios que foram acrescentados em relação ao dataset antigo\n",
    "        arquivo_destino = os.path.join(pasta_destino, 'condominios_novos_do_mes.csv')\n",
    "        arquivo_destino = os.path.abspath(arquivo_destino)\n",
    "        condominios_adicionados.to_csv(arquivo_destino, index=False, encoding='latin1')\n",
    "\n",
    "        # os.remove(condominios_fortaleza_antigo)\n",
    "        os.rename(condominios_fortaleza_novo, condominios_fortaleza_antigo)\n",
    "    except:\n",
    "        pass\n",
    "\n",
    "    os.rename(condominios_fortaleza_novo, condominios_fortaleza_antigo)\n",
    "\n",
    "    return dataset, condominios_adicionados"
   ]
  },
  {
   "cell_type": "code",
   "execution_count": 20,
   "id": "dbc9cab4",
   "metadata": {},
   "outputs": [
    {
     "name": "stdout",
     "output_type": "stream",
     "text": [
      "Executando download dos dados da Receita\n",
      "Parte 1/3\n",
      "Parte 1.1/3\n"
     ]
    },
    {
     "name": "stderr",
     "output_type": "stream",
     "text": []
    },
    {
     "ename": "FileExistsError",
     "evalue": "[WinError 183] Não é possível criar um arquivo já existente: 'c:\\\\Users\\\\User543\\\\Documents\\\\GitHub\\\\GS_Automacoes\\\\GS\\\\Mapeamento Condominios Fortaleza\\\\empresas\\\\Empresas0.zip' -> 'c:\\\\Users\\\\User543\\\\Documents\\\\GitHub\\\\GS_Automacoes\\\\GS\\\\Mapeamento Condominios Fortaleza\\\\empresas\\\\Empresas1.csv'",
     "output_type": "error",
     "traceback": [
      "\u001b[31m---------------------------------------------------------------------------\u001b[39m",
      "\u001b[31mFileExistsError\u001b[39m                           Traceback (most recent call last)",
      "\u001b[36mCell\u001b[39m\u001b[36m \u001b[39m\u001b[32mIn[20]\u001b[39m\u001b[32m, line 1\u001b[39m\n\u001b[32m----> \u001b[39m\u001b[32m1\u001b[39m \u001b[43mgerar_novo_dataset\u001b[49m\u001b[43m(\u001b[49m\u001b[43m)\u001b[49m\n",
      "\u001b[36mCell\u001b[39m\u001b[36m \u001b[39m\u001b[32mIn[18]\u001b[39m\u001b[32m, line 5\u001b[39m, in \u001b[36mgerar_novo_dataset\u001b[39m\u001b[34m()\u001b[39m\n\u001b[32m      3\u001b[39m \u001b[38;5;28;01mdef\u001b[39;00m\u001b[38;5;250m \u001b[39m\u001b[34mgerar_novo_dataset\u001b[39m():\n\u001b[32m      4\u001b[39m     \u001b[38;5;66;03m#capturando o dataset de condominios de fortaleza com o programa gerar_dataset()\u001b[39;00m\n\u001b[32m----> \u001b[39m\u001b[32m5\u001b[39m     dataset = \u001b[43mgerar_dataset\u001b[49m\u001b[43m(\u001b[49m\u001b[33;43m\"\u001b[39;49m\u001b[33;43mcondominios_fortaleza_com_razao_social_atualizado.csv\u001b[39;49m\u001b[33;43m\"\u001b[39;49m\u001b[43m)\u001b[49m\n\u001b[32m      7\u001b[39m     \u001b[38;5;66;03m#capturando o diretorio dos datasets dos condominios novo e antigo\u001b[39;00m\n\u001b[32m      8\u001b[39m     pasta_atual = os.getcwd()\n",
      "\u001b[36mFile \u001b[39m\u001b[32mc:\\Users\\User543\\Documents\\GitHub\\GS_Automacoes\\GS\\Mapeamento Condominios Fortaleza\\pipeline_gerar_dataset\\gerar_dataset_cond_fortaleza.py:6\u001b[39m, in \u001b[36mgerar_dataset\u001b[39m\u001b[34m(nome_arquivo_final)\u001b[39m\n\u001b[32m      5\u001b[39m \u001b[38;5;28;01mdef\u001b[39;00m\u001b[38;5;250m \u001b[39m\u001b[34mgerar_dataset\u001b[39m(nome_arquivo_final = \u001b[33m\"\u001b[39m\u001b[33mcondominios_fortaleza_com_razao_social.csv\u001b[39m\u001b[33m\"\u001b[39m):\n\u001b[32m----> \u001b[39m\u001b[32m6\u001b[39m     \u001b[43mdownload_dados_receita\u001b[49m\u001b[43m.\u001b[49m\u001b[43mdownload_dados_estabelecimentos_empresas\u001b[49m\u001b[43m(\u001b[49m\u001b[43m)\u001b[49m\n\u001b[32m      7\u001b[39m     filtragem_condominios_fortaleza.filtrar_cond_fortaleza()\n\u001b[32m      8\u001b[39m     cruzamento_cond_fortaleza_razao_social.cruzar_dados_cond_fort_razao_social(nome_arquivo_final)\n",
      "\u001b[36mFile \u001b[39m\u001b[32mc:\\Users\\User543\\Documents\\GitHub\\GS_Automacoes\\GS\\Mapeamento Condominios Fortaleza\\pipeline_gerar_dataset\\download_dados_receita.py:168\u001b[39m, in \u001b[36mdownload_dados_estabelecimentos_empresas\u001b[39m\u001b[34m()\u001b[39m\n\u001b[32m    166\u001b[39m \u001b[38;5;28mprint\u001b[39m(\u001b[33m\"\u001b[39m\u001b[33mExecutando download dos dados da Receita\u001b[39m\u001b[33m\"\u001b[39m)\n\u001b[32m    167\u001b[39m \u001b[38;5;28mprint\u001b[39m(\u001b[33m\"\u001b[39m\u001b[33mParte 1/3\u001b[39m\u001b[33m\"\u001b[39m)\n\u001b[32m--> \u001b[39m\u001b[32m168\u001b[39m \u001b[43mdownload_empresas\u001b[49m\u001b[43m(\u001b[49m\u001b[43m)\u001b[49m\n\u001b[32m    169\u001b[39m download_estabelecimentos()\n",
      "\u001b[36mFile \u001b[39m\u001b[32mc:\\Users\\User543\\Documents\\GitHub\\GS_Automacoes\\GS\\Mapeamento Condominios Fortaleza\\pipeline_gerar_dataset\\download_dados_receita.py:96\u001b[39m, in \u001b[36mdownload_empresas\u001b[39m\u001b[34m()\u001b[39m\n\u001b[32m     93\u001b[39m nome_antigo = os.path.join(pasta_irma, arquivo)\n\u001b[32m     94\u001b[39m nome_novo = os.path.join(pasta_irma, \u001b[33mf\u001b[39m\u001b[33m\"\u001b[39m\u001b[33mEmpresas\u001b[39m\u001b[38;5;132;01m{\u001b[39;00mindice\u001b[38;5;132;01m}\u001b[39;00m\u001b[33m.csv\u001b[39m\u001b[33m\"\u001b[39m)\n\u001b[32m---> \u001b[39m\u001b[32m96\u001b[39m \u001b[43mos\u001b[49m\u001b[43m.\u001b[49m\u001b[43mrename\u001b[49m\u001b[43m(\u001b[49m\u001b[43mnome_antigo\u001b[49m\u001b[43m,\u001b[49m\u001b[43m \u001b[49m\u001b[43mnome_novo\u001b[49m\u001b[43m)\u001b[49m\n\u001b[32m     97\u001b[39m indice = indice + \u001b[32m1\u001b[39m\n",
      "\u001b[31mFileExistsError\u001b[39m: [WinError 183] Não é possível criar um arquivo já existente: 'c:\\\\Users\\\\User543\\\\Documents\\\\GitHub\\\\GS_Automacoes\\\\GS\\\\Mapeamento Condominios Fortaleza\\\\empresas\\\\Empresas0.zip' -> 'c:\\\\Users\\\\User543\\\\Documents\\\\GitHub\\\\GS_Automacoes\\\\GS\\\\Mapeamento Condominios Fortaleza\\\\empresas\\\\Empresas1.csv'"
     ]
    }
   ],
   "source": [
    "gerar_novo_dataset()"
   ]
  },
  {
   "cell_type": "markdown",
   "id": "b4ddb19e",
   "metadata": {},
   "source": [
    "#### Testes"
   ]
  }
 ],
 "metadata": {
  "kernelspec": {
   "display_name": "Python 3",
   "language": "python",
   "name": "python3"
  },
  "language_info": {
   "codemirror_mode": {
    "name": "ipython",
    "version": 3
   },
   "file_extension": ".py",
   "mimetype": "text/x-python",
   "name": "python",
   "nbconvert_exporter": "python",
   "pygments_lexer": "ipython3",
   "version": "3.13.4"
  }
 },
 "nbformat": 4,
 "nbformat_minor": 5
}
